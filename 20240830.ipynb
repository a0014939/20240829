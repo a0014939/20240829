{
  "nbformat": 4,
  "nbformat_minor": 0,
  "metadata": {
    "colab": {
      "provenance": [],
      "authorship_tag": "ABX9TyM3tfkewKOrAGuYbeAVbJ7G",
      "include_colab_link": true
    },
    "kernelspec": {
      "name": "python3",
      "display_name": "Python 3"
    },
    "language_info": {
      "name": "python"
    }
  },
  "cells": [
    {
      "cell_type": "markdown",
      "metadata": {
        "id": "view-in-github",
        "colab_type": "text"
      },
      "source": [
        "<a href=\"https://colab.research.google.com/github/a0014939/20240829/blob/main/20240830.ipynb\" target=\"_parent\"><img src=\"https://colab.research.google.com/assets/colab-badge.svg\" alt=\"Open In Colab\"/></a>"
      ]
    },
    {
      "cell_type": "markdown",
      "source": [
        "# 20240830筆記"
      ],
      "metadata": {
        "id": "l9O7ocgu3_w_"
      }
    },
    {
      "cell_type": "markdown",
      "source": [
        "## 複習基本資料型態及容器型別\n",
        "* int,float, bool,str\n",
        "* list, tuple, dict,set"
      ],
      "metadata": {
        "id": "Ko1-1gtl4sPG"
      }
    },
    {
      "cell_type": "markdown",
      "source": [
        "### 字串的加法及乘法"
      ],
      "metadata": {
        "id": "1KqYMGNA49pd"
      }
    },
    {
      "cell_type": "code",
      "execution_count": 1,
      "metadata": {
        "colab": {
          "base_uri": "https://localhost:8080/",
          "height": 36
        },
        "id": "sAW_5YE33qWN",
        "outputId": "929715a6-59cf-445f-9cd5-b377f799584d"
      },
      "outputs": [
        {
          "output_type": "execute_result",
          "data": {
            "text/plain": [
              "'abc123'"
            ],
            "application/vnd.google.colaboratory.intrinsic+json": {
              "type": "string"
            }
          },
          "metadata": {},
          "execution_count": 1
        }
      ],
      "source": [
        "'abc' + '123'"
      ]
    },
    {
      "cell_type": "code",
      "source": [
        "'abc' * 3"
      ],
      "metadata": {
        "colab": {
          "base_uri": "https://localhost:8080/",
          "height": 36
        },
        "id": "2nj8QuEC5N8l",
        "outputId": "75bc4019-32a3-4345-b4d9-4fc4e7335e26"
      },
      "execution_count": 2,
      "outputs": [
        {
          "output_type": "execute_result",
          "data": {
            "text/plain": [
              "'abcabcabc'"
            ],
            "application/vnd.google.colaboratory.intrinsic+json": {
              "type": "string"
            }
          },
          "metadata": {},
          "execution_count": 2
        }
      ]
    },
    {
      "cell_type": "code",
      "source": [
        "'abc' + str(123)"
      ],
      "metadata": {
        "colab": {
          "base_uri": "https://localhost:8080/",
          "height": 36
        },
        "id": "x0jmCxU85TCd",
        "outputId": "210cd508-0ba5-45ad-be5d-0c423ac4516a"
      },
      "execution_count": 4,
      "outputs": [
        {
          "output_type": "execute_result",
          "data": {
            "text/plain": [
              "'abc123'"
            ],
            "application/vnd.google.colaboratory.intrinsic+json": {
              "type": "string"
            }
          },
          "metadata": {},
          "execution_count": 4
        }
      ]
    },
    {
      "cell_type": "markdown",
      "source": [
        "### 綜合練習\n",
        "\n",
        "請用 for 迴圈畫出底下金字塔。\n",
        "\n",
        "     *\n",
        "    ***\n",
        "   *****\n",
        "  *******\n",
        " *********"
      ],
      "metadata": {
        "id": "7mmDnRPt6C4Q"
      }
    },
    {
      "cell_type": "code",
      "source": [
        "for i in range(5):\n",
        "    print(' '*(5-i)+'*'*(2*i+1))"
      ],
      "metadata": {
        "colab": {
          "base_uri": "https://localhost:8080/"
        },
        "id": "-C0eMpsV5Yi1",
        "outputId": "96b2e414-d4b9-40e3-dc28-b44c5be77eb1"
      },
      "execution_count": 28,
      "outputs": [
        {
          "output_type": "stream",
          "name": "stdout",
          "text": [
            "     *\n",
            "    ***\n",
            "   *****\n",
            "  *******\n",
            " *********\n"
          ]
        }
      ]
    },
    {
      "cell_type": "markdown",
      "source": [
        "### 綜合練習 02\n",
        "請將上面的程式碼打包成一個韓式，輸入一個整數N，畫出高度為N的金塔。"
      ],
      "metadata": {
        "id": "OqN7nPzt8RFb"
      }
    },
    {
      "cell_type": "code",
      "source": [
        "def pyramid(n):\n",
        "  for i in range(n):\n",
        "    print(' '*(n-i)+'*'*(2*i+1))\n"
      ],
      "metadata": {
        "id": "zDCQdNfT86CS"
      },
      "execution_count": 33,
      "outputs": []
    },
    {
      "cell_type": "code",
      "source": [
        "pyramid(7)"
      ],
      "metadata": {
        "colab": {
          "base_uri": "https://localhost:8080/"
        },
        "id": "AuBq_Gcl98Aq",
        "outputId": "e0c923d6-3026-476c-c042-30da6061712a"
      },
      "execution_count": 34,
      "outputs": [
        {
          "output_type": "stream",
          "name": "stdout",
          "text": [
            "       *\n",
            "      ***\n",
            "     *****\n",
            "    *******\n",
            "   *********\n",
            "  ***********\n",
            " *************\n"
          ]
        }
      ]
    },
    {
      "cell_type": "markdown",
      "source": [
        "## zerojudge.tw使用簡介\n",
        "\n",
        "* 如何讀取資料？ => input()\n",
        "* 如何印出結果？ => print()"
      ],
      "metadata": {
        "id": "BX2l0Lve-B6E"
      }
    },
    {
      "cell_type": "code",
      "source": [
        "input?"
      ],
      "metadata": {
        "id": "YENMR5sk-OiY"
      },
      "execution_count": 35,
      "outputs": []
    },
    {
      "cell_type": "code",
      "source": [
        "x = input('請輸入一個整數')"
      ],
      "metadata": {
        "colab": {
          "base_uri": "https://localhost:8080/"
        },
        "id": "y5R4dm2V-gsg",
        "outputId": "0881b71c-e1ca-428e-c73f-b2d26691d99e"
      },
      "execution_count": 41,
      "outputs": [
        {
          "name": "stdout",
          "output_type": "stream",
          "text": [
            "請輸入一個整數5\n"
          ]
        }
      ]
    },
    {
      "cell_type": "code",
      "source": [
        "x"
      ],
      "metadata": {
        "colab": {
          "base_uri": "https://localhost:8080/",
          "height": 36
        },
        "id": "UeGXIHvP-niI",
        "outputId": "21ec33cf-b4ca-4132-d2b3-25fbbab48ad6"
      },
      "execution_count": 42,
      "outputs": [
        {
          "output_type": "execute_result",
          "data": {
            "text/plain": [
              "'5'"
            ],
            "application/vnd.google.colaboratory.intrinsic+json": {
              "type": "string"
            }
          },
          "metadata": {},
          "execution_count": 42
        }
      ]
    },
    {
      "cell_type": "code",
      "source": [
        "int(x)"
      ],
      "metadata": {
        "colab": {
          "base_uri": "https://localhost:8080/"
        },
        "id": "oYvOAnBB-tsw",
        "outputId": "546b0a00-500f-4fb0-bea8-e91195dafaae"
      },
      "execution_count": 43,
      "outputs": [
        {
          "output_type": "execute_result",
          "data": {
            "text/plain": [
              "5"
            ]
          },
          "metadata": {},
          "execution_count": 43
        }
      ]
    },
    {
      "cell_type": "code",
      "source": [
        "type(x)"
      ],
      "metadata": {
        "colab": {
          "base_uri": "https://localhost:8080/"
        },
        "id": "X0X7Rk0Z-1CA",
        "outputId": "98135833-e621-422a-d2f1-7748f33bf32a"
      },
      "execution_count": 44,
      "outputs": [
        {
          "output_type": "execute_result",
          "data": {
            "text/plain": [
              "str"
            ]
          },
          "metadata": {},
          "execution_count": 44
        }
      ]
    },
    {
      "cell_type": "code",
      "source": [
        "print?"
      ],
      "metadata": {
        "id": "LdlzcJla_C9g"
      },
      "execution_count": 45,
      "outputs": []
    },
    {
      "cell_type": "code",
      "source": [
        "print(1,2,3,4,5)"
      ],
      "metadata": {
        "colab": {
          "base_uri": "https://localhost:8080/"
        },
        "id": "nvLtymZN_L4A",
        "outputId": "a08f0ab2-71c3-4dcd-891c-97b07b06dfa7"
      },
      "execution_count": 46,
      "outputs": [
        {
          "output_type": "stream",
          "name": "stdout",
          "text": [
            "1 2 3 4 5\n"
          ]
        }
      ]
    },
    {
      "cell_type": "code",
      "source": [
        "print(1,2,3,4,5, sep='-')"
      ],
      "metadata": {
        "colab": {
          "base_uri": "https://localhost:8080/"
        },
        "outputId": "7bf74892-3270-4160-9622-544d83d575df",
        "id": "_Q8LkO3__d9w"
      },
      "execution_count": 47,
      "outputs": [
        {
          "output_type": "stream",
          "name": "stdout",
          "text": [
            "1-2-3-4-5\n"
          ]
        }
      ]
    },
    {
      "cell_type": "code",
      "source": [
        "print(1,2,3,4,5,sep='')"
      ],
      "metadata": {
        "colab": {
          "base_uri": "https://localhost:8080/"
        },
        "outputId": "1979bff8-8e97-4906-b196-221ebcd72656",
        "id": "_J84hKkG_jhX"
      },
      "execution_count": 48,
      "outputs": [
        {
          "output_type": "stream",
          "name": "stdout",
          "text": [
            "12345\n"
          ]
        }
      ]
    },
    {
      "cell_type": "code",
      "source": [
        "print(1,2,3)\n",
        "print(4,5,6)"
      ],
      "metadata": {
        "colab": {
          "base_uri": "https://localhost:8080/"
        },
        "id": "22DKzkRw_qmn",
        "outputId": "70847f81-8499-4e12-bac0-29df148521fc"
      },
      "execution_count": 52,
      "outputs": [
        {
          "output_type": "stream",
          "name": "stdout",
          "text": [
            "1 2 3\n",
            "4 5 6\n"
          ]
        }
      ]
    },
    {
      "cell_type": "code",
      "source": [
        "print(1,2,3,end=\" \")\n",
        "print(4,5,6)"
      ],
      "metadata": {
        "colab": {
          "base_uri": "https://localhost:8080/"
        },
        "outputId": "e3d9ba4d-bff9-4ab9-8a41-39b7172f9c53",
        "id": "eXtKtKnCACKf"
      },
      "execution_count": 53,
      "outputs": [
        {
          "output_type": "stream",
          "name": "stdout",
          "text": [
            "1 2 3 4 5 6\n"
          ]
        }
      ]
    },
    {
      "cell_type": "code",
      "source": [
        "print(1,2,3,end=\"+++\")\n",
        "print(4,5,6)"
      ],
      "metadata": {
        "colab": {
          "base_uri": "https://localhost:8080/"
        },
        "outputId": "a3be682f-e470-4706-b906-847754885da0",
        "id": "lSFv9ytyAJex"
      },
      "execution_count": 54,
      "outputs": [
        {
          "output_type": "stream",
          "name": "stdout",
          "text": [
            "1 2 3+++4 5 6\n"
          ]
        }
      ]
    },
    {
      "cell_type": "markdown",
      "source": [
        "### 字串的格式化\n",
        "* python2\n",
        "* python3\n",
        "* f-string"
      ],
      "metadata": {
        "id": "5SXo22uPAMLX"
      }
    },
    {
      "cell_type": "code",
      "source": [
        "# python2 字串的格式化\n",
        "m = 1\n",
        "n = 3.14159\n",
        "print('m=%d, n=%f'%(m,n))"
      ],
      "metadata": {
        "colab": {
          "base_uri": "https://localhost:8080/"
        },
        "id": "kbv9xOLY_5Q3",
        "outputId": "789a07c0-88ac-4226-e67f-ddc30bf70e28"
      },
      "execution_count": 55,
      "outputs": [
        {
          "output_type": "stream",
          "name": "stdout",
          "text": [
            "m=1, n=3.141590\n"
          ]
        }
      ]
    },
    {
      "cell_type": "code",
      "source": [
        "# python3 字串的格式化\n",
        "print('m={},n={}'.format(m,n))"
      ],
      "metadata": {
        "colab": {
          "base_uri": "https://localhost:8080/"
        },
        "id": "PC42NDGsAgbl",
        "outputId": "e961e4b8-9477-4445-a9b8-6cea4887005e"
      },
      "execution_count": 57,
      "outputs": [
        {
          "output_type": "stream",
          "name": "stdout",
          "text": [
            "m=1,n=3.14159\n"
          ]
        }
      ]
    },
    {
      "cell_type": "code",
      "source": [
        "# f-string\n",
        "print(f'm={m}, n={n}')"
      ],
      "metadata": {
        "colab": {
          "base_uri": "https://localhost:8080/"
        },
        "id": "a5VfkHsaBOSc",
        "outputId": "640d0870-bd24-41b1-c937-87d32a9276e1"
      },
      "execution_count": 58,
      "outputs": [
        {
          "output_type": "stream",
          "name": "stdout",
          "text": [
            "m=1, n=3.14159\n"
          ]
        }
      ]
    },
    {
      "cell_type": "markdown",
      "source": [
        "## Python的基礎語法\n",
        "\n",
        "* 條件式 => if statements\n",
        "* 迴圈 loops\n",
        "* functions\n",
        "* exception handling"
      ],
      "metadata": {
        "id": "-5ALlBvHDt5j"
      }
    },
    {
      "cell_type": "markdown",
      "source": [
        "### 條件式"
      ],
      "metadata": {
        "id": "Uaee2wdAFLqa"
      }
    },
    {
      "cell_type": "code",
      "source": [
        "m = 3\n",
        "n = 2"
      ],
      "metadata": {
        "id": "esfgWo8lEGhp"
      },
      "execution_count": 63,
      "outputs": []
    },
    {
      "cell_type": "code",
      "source": [
        "if m > n:\n",
        "    print('m is greater than n')"
      ],
      "metadata": {
        "colab": {
          "base_uri": "https://localhost:8080/"
        },
        "id": "xAwJ4gl7FEUo",
        "outputId": "720961e8-f158-4f9e-96f7-da2e3e893feb"
      },
      "execution_count": 62,
      "outputs": [
        {
          "output_type": "stream",
          "name": "stdout",
          "text": [
            "m is greater than n\n"
          ]
        }
      ]
    },
    {
      "cell_type": "code",
      "source": [
        "if m > n:\n",
        "    print('m is greater than n')\n",
        "else:\n",
        "    print('m is not greater than n')"
      ],
      "metadata": {
        "colab": {
          "base_uri": "https://localhost:8080/"
        },
        "id": "xHL37S2IEUyB",
        "outputId": "5213695e-7e76-407b-a47a-d9b0d7fbc761"
      },
      "execution_count": 60,
      "outputs": [
        {
          "output_type": "stream",
          "name": "stdout",
          "text": [
            "m is greater than n\n"
          ]
        }
      ]
    },
    {
      "cell_type": "code",
      "source": [
        "if m > n:\n",
        "    print('m is greater than n')\n",
        "elif m < n:\n",
        "    print('m is less than n')\n",
        "else:\n",
        "    print('m is equal to n')"
      ],
      "metadata": {
        "colab": {
          "base_uri": "https://localhost:8080/"
        },
        "id": "tcM0gL_CEbv2",
        "outputId": "b1e25fda-4612-477b-e015-db6a1389f819"
      },
      "execution_count": 61,
      "outputs": [
        {
          "output_type": "stream",
          "name": "stdout",
          "text": [
            "m is greater than n\n"
          ]
        }
      ]
    },
    {
      "cell_type": "markdown",
      "source": [
        "## 迴圈\n",
        "\n",
        "* for\n",
        "* while"
      ],
      "metadata": {
        "id": "hQP0HODNFdr4"
      }
    },
    {
      "cell_type": "code",
      "source": [
        "for i in range(3):\n",
        "    print(i)"
      ],
      "metadata": {
        "colab": {
          "base_uri": "https://localhost:8080/"
        },
        "id": "fQfb4uZbFgln",
        "outputId": "beb900d6-caad-47f4-b3b6-457435e31048"
      },
      "execution_count": 67,
      "outputs": [
        {
          "output_type": "stream",
          "name": "stdout",
          "text": [
            "0\n",
            "1\n",
            "2\n"
          ]
        }
      ]
    },
    {
      "cell_type": "code",
      "source": [
        "for i in range(3):\n",
        "    print('程式區塊開始')\n",
        "    print(i)\n",
        "    print('程式區塊結束')"
      ],
      "metadata": {
        "colab": {
          "base_uri": "https://localhost:8080/"
        },
        "id": "s6CxeJ3qFyzD",
        "outputId": "1d8e97ab-a496-4323-a3f2-c5d63402a760"
      },
      "execution_count": null,
      "outputs": [
        {
          "output_type": "stream",
          "name": "stdout",
          "text": [
            "程式區塊開始\n",
            "0\n",
            "程式區塊結束\n",
            "程式區塊開始\n",
            "1\n",
            "程式區塊結束\n",
            "程式區塊開始\n",
            "2\n",
            "程式區塊結束\n"
          ]
        }
      ]
    },
    {
      "cell_type": "code",
      "source": [
        "x = ['aaa', 'bbb', 'ccc']"
      ],
      "metadata": {
        "id": "noQfY5OXGHxs"
      },
      "execution_count": 70,
      "outputs": []
    },
    {
      "cell_type": "code",
      "source": [
        "for i in x:\n",
        "    print(i)"
      ],
      "metadata": {
        "colab": {
          "base_uri": "https://localhost:8080/"
        },
        "id": "65YB4rv-Gcpe",
        "outputId": "3d3b1720-df17-4888-f175-9bc401f68333"
      },
      "execution_count": 71,
      "outputs": [
        {
          "output_type": "stream",
          "name": "stdout",
          "text": [
            "aaa\n",
            "bbb\n",
            "ccc\n"
          ]
        }
      ]
    },
    {
      "cell_type": "code",
      "source": [
        "d = {}\n",
        "d['a'] = 1\n",
        "d['b'] = 2\n",
        "d['c'] = 3"
      ],
      "metadata": {
        "id": "YA7ALVOsGr9d"
      },
      "execution_count": 72,
      "outputs": []
    },
    {
      "cell_type": "code",
      "source": [
        "d"
      ],
      "metadata": {
        "colab": {
          "base_uri": "https://localhost:8080/"
        },
        "id": "gGD4Rws6G4Dl",
        "outputId": "7011bee6-6600-499e-c84d-5d87149080a7"
      },
      "execution_count": 73,
      "outputs": [
        {
          "output_type": "execute_result",
          "data": {
            "text/plain": [
              "{'a': 1, 'b': 2, 'c': 3}"
            ]
          },
          "metadata": {},
          "execution_count": 73
        }
      ]
    },
    {
      "cell_type": "code",
      "source": [
        "for i in d:\n",
        "  print(i)"
      ],
      "metadata": {
        "colab": {
          "base_uri": "https://localhost:8080/"
        },
        "id": "F4i696G0G4W8",
        "outputId": "551502d3-eeb9-4308-b82a-a4f2b6ed970a"
      },
      "execution_count": 74,
      "outputs": [
        {
          "output_type": "stream",
          "name": "stdout",
          "text": [
            "a\n",
            "b\n",
            "c\n"
          ]
        }
      ]
    },
    {
      "cell_type": "code",
      "source": [
        "# a => 1\n",
        "# b => 2\n",
        "# c => 3\n",
        "for i in d:\n",
        "  print(i, \"==>\", d[i])"
      ],
      "metadata": {
        "id": "VnXHy8ZkHEdn",
        "colab": {
          "base_uri": "https://localhost:8080/"
        },
        "outputId": "ab9bb431-c29b-4174-e992-d9f4de4d4d19"
      },
      "execution_count": 89,
      "outputs": [
        {
          "output_type": "stream",
          "name": "stdout",
          "text": [
            "a ==> 1\n",
            "b ==> 2\n",
            "c ==> 3\n"
          ]
        }
      ]
    },
    {
      "cell_type": "code",
      "source": [
        "# 寫一個迴圈印出彩虹的顏色\n",
        "colors = ['red', 'orange', 'yellow', 'green', 'blue', 'indigo', 'violet']\n",
        "for i in colors:\n",
        "  print(i)"
      ],
      "metadata": {
        "colab": {
          "base_uri": "https://localhost:8080/"
        },
        "id": "Oh9aBJ2MHY28",
        "outputId": "ef629e38-1c59-4c87-cc35-68e2ec27aea8"
      },
      "execution_count": 77,
      "outputs": [
        {
          "output_type": "stream",
          "name": "stdout",
          "text": [
            "red\n",
            "orange\n",
            "yellow\n",
            "green\n",
            "blue\n",
            "indigo\n",
            "violet\n"
          ]
        }
      ]
    },
    {
      "cell_type": "code",
      "source": [
        "'a' in d"
      ],
      "metadata": {
        "colab": {
          "base_uri": "https://localhost:8080/"
        },
        "id": "E-v1KOohHhfN",
        "outputId": "eb5dd7e1-b6bc-4f44-9b7c-0e046b5695b3"
      },
      "execution_count": 91,
      "outputs": [
        {
          "output_type": "execute_result",
          "data": {
            "text/plain": [
              "True"
            ]
          },
          "metadata": {},
          "execution_count": 91
        }
      ]
    },
    {
      "cell_type": "code",
      "source": [
        "if 'a' in d:\n",
        "  print(f'a is in d, its value is {d[\"a\"]}')"
      ],
      "metadata": {
        "colab": {
          "base_uri": "https://localhost:8080/"
        },
        "id": "EpFSh2WuIXng",
        "outputId": "008188a8-9334-4796-9dea-44ff5b4099d1"
      },
      "execution_count": 92,
      "outputs": [
        {
          "output_type": "stream",
          "name": "stdout",
          "text": [
            "a is in d, its value is 1\n"
          ]
        }
      ]
    },
    {
      "cell_type": "markdown",
      "source": [
        "### 關於字串的引號(' v.s. \")"
      ],
      "metadata": {
        "id": "dVPwoc9sIqEa"
      }
    },
    {
      "cell_type": "code",
      "source": [
        "s1 = 'my dog'"
      ],
      "metadata": {
        "id": "TUnHPGqVIi3a"
      },
      "execution_count": 97,
      "outputs": []
    },
    {
      "cell_type": "code",
      "source": [
        "s2 = \"my dog\""
      ],
      "metadata": {
        "id": "Sa1O9FoVIz3F"
      },
      "execution_count": 96,
      "outputs": []
    },
    {
      "cell_type": "code",
      "source": [
        "s3 = \"my dog's name is Bob\""
      ],
      "metadata": {
        "id": "p8TaV4L0I1-7"
      },
      "execution_count": 95,
      "outputs": []
    },
    {
      "cell_type": "code",
      "source": [
        "s4 = 'my dog\\'s name is Bob'"
      ],
      "metadata": {
        "id": "GMrxychNI_XH"
      },
      "execution_count": 99,
      "outputs": []
    },
    {
      "cell_type": "markdown",
      "source": [
        "## while loop"
      ],
      "metadata": {
        "id": "-QfLS-uZJiQJ"
      }
    },
    {
      "cell_type": "code",
      "source": [
        "for i in range(5):\n",
        "  print(i)"
      ],
      "metadata": {
        "colab": {
          "base_uri": "https://localhost:8080/"
        },
        "id": "MZN3nbq7I5Xs",
        "outputId": "654bc145-47e5-488d-f362-4d107fc03375"
      },
      "execution_count": 100,
      "outputs": [
        {
          "output_type": "stream",
          "name": "stdout",
          "text": [
            "0\n",
            "1\n",
            "2\n",
            "3\n",
            "4\n"
          ]
        }
      ]
    },
    {
      "cell_type": "code",
      "source": [
        "i = 0\n",
        "while i < 5:\n",
        "  print(i)\n",
        "  i = i + 1  # i += 1"
      ],
      "metadata": {
        "colab": {
          "base_uri": "https://localhost:8080/"
        },
        "id": "QFaLunrLJmrA",
        "outputId": "9912a99b-b155-44bc-adb6-1ddb70aab4ba"
      },
      "execution_count": 101,
      "outputs": [
        {
          "output_type": "stream",
          "name": "stdout",
          "text": [
            "0\n",
            "1\n",
            "2\n",
            "3\n",
            "4\n"
          ]
        }
      ]
    },
    {
      "cell_type": "code",
      "source": [
        "# 無限迴圈\n",
        "while True:\n",
        "  print('Hello World!')"
      ],
      "metadata": {
        "colab": {
          "base_uri": "https://localhost:8080/",
          "height": 1000
        },
        "collapsed": true,
        "id": "eWMWQzJDJu7L",
        "outputId": "fd518240-f935-44a5-f668-5eeea174657d"
      },
      "execution_count": 103,
      "outputs": [
        {
          "output_type": "stream",
          "name": "stdout",
          "text": [
            "Hello World!\n",
            "Hello World!\n",
            "Hello World!\n",
            "Hello World!\n",
            "Hello World!\n",
            "Hello World!\n",
            "Hello World!\n",
            "Hello World!\n",
            "Hello World!\n",
            "Hello World!\n",
            "Hello World!\n",
            "Hello World!\n",
            "Hello World!\n",
            "Hello World!\n",
            "Hello World!\n",
            "Hello World!\n",
            "Hello World!\n",
            "Hello World!\n",
            "Hello World!\n",
            "Hello World!\n",
            "Hello World!\n",
            "Hello World!\n",
            "Hello World!\n",
            "Hello World!\n",
            "Hello World!\n",
            "Hello World!\n",
            "Hello World!\n",
            "Hello World!\n",
            "Hello World!\n",
            "Hello World!\n",
            "Hello World!\n",
            "Hello World!\n",
            "Hello World!\n",
            "Hello World!\n",
            "Hello World!\n",
            "Hello World!\n",
            "Hello World!\n",
            "Hello World!\n",
            "Hello World!\n",
            "Hello World!\n",
            "Hello World!\n",
            "Hello World!\n",
            "Hello World!\n",
            "Hello World!\n",
            "Hello World!\n",
            "Hello World!\n",
            "Hello World!\n",
            "Hello World!\n",
            "Hello World!\n",
            "Hello World!\n",
            "Hello World!\n",
            "Hello World!\n",
            "Hello World!\n",
            "Hello World!\n",
            "Hello World!\n",
            "Hello World!\n",
            "Hello World!\n",
            "Hello World!\n",
            "Hello World!\n",
            "Hello World!\n",
            "Hello World!\n",
            "Hello World!\n",
            "Hello World!\n",
            "Hello World!\n",
            "Hello World!\n",
            "Hello World!\n",
            "Hello World!\n",
            "Hello World!\n",
            "Hello World!\n",
            "Hello World!\n",
            "Hello World!\n",
            "Hello World!\n",
            "Hello World!\n",
            "Hello World!\n",
            "Hello World!\n",
            "Hello World!\n",
            "Hello World!\n",
            "Hello World!\n",
            "Hello World!\n",
            "Hello World!\n",
            "Hello World!\n",
            "Hello World!\n",
            "Hello World!\n",
            "Hello World!\n",
            "Hello World!\n",
            "Hello World!\n",
            "Hello World!\n",
            "Hello World!\n",
            "Hello World!\n",
            "Hello World!\n",
            "Hello World!\n",
            "Hello World!\n",
            "Hello World!\n",
            "Hello World!\n",
            "Hello World!\n",
            "Hello World!\n",
            "Hello World!\n",
            "Hello World!\n",
            "Hello World!\n",
            "Hello World!\n",
            "Hello World!\n",
            "Hello World!\n",
            "Hello World!\n",
            "Hello World!\n",
            "Hello World!\n",
            "Hello World!\n",
            "Hello World!\n",
            "Hello World!\n",
            "Hello World!\n",
            "Hello World!\n",
            "Hello World!\n",
            "Hello World!\n",
            "Hello World!\n",
            "Hello World!\n",
            "Hello World!\n",
            "Hello World!\n",
            "Hello World!\n",
            "Hello World!\n",
            "Hello World!\n",
            "Hello World!\n",
            "Hello World!\n",
            "Hello World!\n",
            "Hello World!\n",
            "Hello World!\n",
            "Hello World!\n",
            "Hello World!\n",
            "Hello World!\n",
            "Hello World!\n",
            "Hello World!\n",
            "Hello World!\n",
            "Hello World!\n",
            "Hello World!\n",
            "Hello World!\n",
            "Hello World!\n",
            "Hello World!\n",
            "Hello World!\n",
            "Hello World!\n",
            "Hello World!\n",
            "Hello World!\n",
            "Hello World!\n",
            "Hello World!\n",
            "Hello World!\n",
            "Hello World!\n",
            "Hello World!\n",
            "Hello World!\n",
            "Hello World!\n",
            "Hello World!\n",
            "Hello World!\n",
            "Hello World!\n",
            "Hello World!\n",
            "Hello World!\n",
            "Hello World!\n",
            "Hello World!\n",
            "Hello World!\n",
            "Hello World!\n",
            "Hello World!\n",
            "Hello World!\n",
            "Hello World!\n",
            "Hello World!\n",
            "Hello World!\n",
            "Hello World!\n",
            "Hello World!\n",
            "Hello World!\n",
            "Hello World!\n",
            "Hello World!\n",
            "Hello World!\n",
            "Hello World!\n",
            "Hello World!\n",
            "Hello World!\n",
            "Hello World!\n",
            "Hello World!\n",
            "Hello World!\n",
            "Hello World!\n",
            "Hello World!\n",
            "Hello World!\n",
            "Hello World!\n",
            "Hello World!\n",
            "Hello World!\n",
            "Hello World!\n",
            "Hello World!\n",
            "Hello World!\n",
            "Hello World!\n",
            "Hello World!\n",
            "Hello World!\n",
            "Hello World!\n",
            "Hello World!\n",
            "Hello World!\n",
            "Hello World!\n",
            "Hello World!\n",
            "Hello World!\n",
            "Hello World!\n",
            "Hello World!\n",
            "Hello World!\n",
            "Hello World!\n",
            "Hello World!\n",
            "Hello World!\n",
            "Hello World!\n",
            "Hello World!\n",
            "Hello World!\n",
            "Hello World!\n",
            "Hello World!\n",
            "Hello World!\n",
            "Hello World!\n",
            "Hello World!\n",
            "Hello World!\n",
            "Hello World!\n",
            "Hello World!\n",
            "Hello World!\n",
            "Hello World!\n",
            "Hello World!\n",
            "Hello World!\n",
            "Hello World!\n",
            "Hello World!\n",
            "Hello World!\n",
            "Hello World!\n",
            "Hello World!\n",
            "Hello World!\n",
            "Hello World!\n",
            "Hello World!\n",
            "Hello World!\n",
            "Hello World!\n",
            "Hello World!\n",
            "Hello World!\n",
            "Hello World!\n",
            "Hello World!\n",
            "Hello World!\n",
            "Hello World!\n",
            "Hello World!\n",
            "Hello World!\n",
            "Hello World!\n",
            "Hello World!\n",
            "Hello World!\n",
            "Hello World!\n",
            "Hello World!\n",
            "Hello World!\n",
            "Hello World!\n",
            "Hello World!\n",
            "Hello World!\n",
            "Hello World!\n",
            "Hello World!\n",
            "Hello World!\n",
            "Hello World!\n",
            "Hello World!\n",
            "Hello World!\n",
            "Hello World!\n",
            "Hello World!\n",
            "Hello World!\n",
            "Hello World!\n",
            "Hello World!\n",
            "Hello World!\n",
            "Hello World!\n",
            "Hello World!\n",
            "Hello World!\n",
            "Hello World!\n",
            "Hello World!\n",
            "Hello World!\n",
            "Hello World!\n",
            "Hello World!\n",
            "Hello World!\n",
            "Hello World!\n",
            "Hello World!\n",
            "Hello World!\n",
            "Hello World!\n",
            "Hello World!\n",
            "Hello World!\n",
            "Hello World!\n",
            "Hello World!\n",
            "Hello World!\n",
            "Hello World!\n",
            "Hello World!\n",
            "Hello World!\n",
            "Hello World!\n",
            "Hello World!\n",
            "Hello World!\n",
            "Hello World!\n",
            "Hello World!\n",
            "Hello World!\n",
            "Hello World!\n",
            "Hello World!\n",
            "Hello World!\n",
            "Hello World!\n",
            "Hello World!\n",
            "Hello World!\n",
            "Hello World!\n",
            "Hello World!\n",
            "Hello World!\n",
            "Hello World!\n",
            "Hello World!\n",
            "Hello World!\n",
            "Hello World!\n",
            "Hello World!\n",
            "Hello World!\n",
            "Hello World!\n",
            "Hello World!\n",
            "Hello World!\n",
            "Hello World!\n",
            "Hello World!\n",
            "Hello World!\n",
            "Hello World!\n",
            "Hello World!\n",
            "Hello World!\n",
            "Hello World!\n",
            "Hello World!\n",
            "Hello World!\n",
            "Hello World!\n",
            "Hello World!\n",
            "Hello World!\n",
            "Hello World!\n",
            "Hello World!\n",
            "Hello World!\n",
            "Hello World!\n",
            "Hello World!\n",
            "Hello World!\n",
            "Hello World!\n",
            "Hello World!\n",
            "Hello World!\n",
            "Hello World!\n",
            "Hello World!\n",
            "Hello World!\n",
            "Hello World!\n",
            "Hello World!\n",
            "Hello World!\n",
            "Hello World!\n",
            "Hello World!\n",
            "Hello World!\n",
            "Hello World!\n",
            "Hello World!\n",
            "Hello World!\n",
            "Hello World!\n",
            "Hello World!\n",
            "Hello World!\n",
            "Hello World!\n",
            "Hello World!\n",
            "Hello World!\n",
            "Hello World!\n",
            "Hello World!\n",
            "Hello World!\n",
            "Hello World!\n",
            "Hello World!\n",
            "Hello World!\n",
            "Hello World!\n",
            "Hello World!\n",
            "Hello World!\n",
            "Hello World!\n",
            "Hello World!\n",
            "Hello World!\n",
            "Hello World!\n",
            "Hello World!\n",
            "Hello World!\n",
            "Hello World!\n",
            "Hello World!\n",
            "Hello World!\n",
            "Hello World!\n",
            "Hello World!\n",
            "Hello World!\n",
            "Hello World!\n",
            "Hello World!\n",
            "Hello World!\n",
            "Hello World!\n",
            "Hello World!\n",
            "Hello World!\n",
            "Hello World!\n",
            "Hello World!\n",
            "Hello World!\n",
            "Hello World!\n",
            "Hello World!\n",
            "Hello World!\n",
            "Hello World!\n",
            "Hello World!\n",
            "Hello World!\n",
            "Hello World!\n",
            "Hello World!\n",
            "Hello World!\n",
            "Hello World!\n",
            "Hello World!\n",
            "Hello World!\n",
            "Hello World!\n",
            "Hello World!\n",
            "Hello World!\n",
            "Hello World!\n",
            "Hello World!\n",
            "Hello World!\n",
            "Hello World!\n",
            "Hello World!\n",
            "Hello World!\n",
            "Hello World!\n",
            "Hello World!\n",
            "Hello World!\n",
            "Hello World!\n",
            "Hello World!\n",
            "Hello World!\n",
            "Hello World!\n",
            "Hello World!\n",
            "Hello World!\n",
            "Hello World!\n",
            "Hello World!\n",
            "Hello World!\n",
            "Hello World!\n",
            "Hello World!\n",
            "Hello World!\n",
            "Hello World!\n",
            "Hello World!\n",
            "Hello World!\n",
            "Hello World!\n",
            "Hello World!\n",
            "Hello World!\n",
            "Hello World!\n",
            "Hello World!\n",
            "Hello World!\n",
            "Hello World!\n",
            "Hello World!\n",
            "Hello World!\n",
            "Hello World!\n",
            "Hello World!\n",
            "Hello World!\n",
            "Hello World!\n",
            "Hello World!\n",
            "Hello World!\n",
            "Hello World!\n",
            "Hello World!\n",
            "Hello World!\n",
            "Hello World!\n",
            "Hello World!\n",
            "Hello World!\n",
            "Hello World!\n",
            "Hello World!\n",
            "Hello World!\n",
            "Hello World!\n",
            "Hello World!\n",
            "Hello World!\n",
            "Hello World!\n",
            "Hello World!\n",
            "Hello World!\n",
            "Hello World!\n",
            "Hello World!\n",
            "Hello World!\n",
            "Hello World!\n",
            "Hello World!\n",
            "Hello World!\n",
            "Hello World!\n",
            "Hello World!\n",
            "Hello World!\n",
            "Hello World!\n",
            "Hello World!\n",
            "Hello World!\n",
            "Hello World!\n",
            "Hello World!\n",
            "Hello World!\n",
            "Hello World!\n",
            "Hello World!\n",
            "Hello World!\n",
            "Hello World!\n",
            "Hello World!\n",
            "Hello World!\n",
            "Hello World!\n",
            "Hello World!\n",
            "Hello World!\n",
            "Hello World!\n",
            "Hello World!\n",
            "Hello World!\n",
            "Hello World!\n",
            "Hello World!\n",
            "Hello World!\n",
            "Hello World!\n",
            "Hello World!\n",
            "Hello World!\n",
            "Hello World!\n",
            "Hello World!\n",
            "Hello World!\n",
            "Hello World!\n",
            "Hello World!\n",
            "Hello World!\n",
            "Hello World!\n",
            "Hello World!\n",
            "Hello World!\n",
            "Hello World!\n",
            "Hello World!\n",
            "Hello World!\n",
            "Hello World!\n",
            "Hello World!\n",
            "Hello World!\n",
            "Hello World!\n",
            "Hello World!\n",
            "Hello World!\n",
            "Hello World!\n",
            "Hello World!\n",
            "Hello World!\n",
            "Hello World!\n",
            "Hello World!\n",
            "Hello World!\n",
            "Hello World!\n",
            "Hello World!\n",
            "Hello World!\n",
            "Hello World!\n",
            "Hello World!\n",
            "Hello World!\n",
            "Hello World!\n",
            "Hello World!\n",
            "Hello World!\n",
            "Hello World!\n",
            "Hello World!\n",
            "Hello World!\n",
            "Hello World!\n",
            "Hello World!\n",
            "Hello World!\n",
            "Hello World!\n",
            "Hello World!\n",
            "Hello World!\n",
            "Hello World!\n",
            "Hello World!\n",
            "Hello World!\n",
            "Hello World!\n",
            "Hello World!\n",
            "Hello World!\n",
            "Hello World!\n",
            "Hello World!\n",
            "Hello World!\n",
            "Hello World!\n",
            "Hello World!\n",
            "Hello World!\n",
            "Hello World!\n",
            "Hello World!\n",
            "Hello World!\n",
            "Hello World!\n",
            "Hello World!\n",
            "Hello World!\n",
            "Hello World!\n",
            "Hello World!\n",
            "Hello World!\n",
            "Hello World!\n",
            "Hello World!\n",
            "Hello World!\n",
            "Hello World!\n",
            "Hello World!\n",
            "Hello World!\n",
            "Hello World!\n",
            "Hello World!\n",
            "Hello World!\n",
            "Hello World!\n",
            "Hello World!\n",
            "Hello World!\n",
            "Hello World!\n",
            "Hello World!\n",
            "Hello World!\n",
            "Hello World!\n",
            "Hello World!\n",
            "Hello World!\n",
            "Hello World!\n",
            "Hello World!\n",
            "Hello World!\n",
            "Hello World!\n",
            "Hello World!\n",
            "Hello World!\n",
            "Hello World!\n",
            "Hello World!\n",
            "Hello World!\n",
            "Hello World!\n",
            "Hello World!\n",
            "Hello World!\n",
            "Hello World!\n",
            "Hello World!\n",
            "Hello World!\n",
            "Hello World!\n",
            "Hello World!\n",
            "Hello World!\n",
            "Hello World!\n",
            "Hello World!\n",
            "Hello World!\n",
            "Hello World!\n",
            "Hello World!\n",
            "Hello World!\n",
            "Hello World!\n",
            "Hello World!\n",
            "Hello World!\n",
            "Hello World!\n",
            "Hello World!\n",
            "Hello World!\n",
            "Hello World!\n",
            "Hello World!\n",
            "Hello World!\n",
            "Hello World!\n",
            "Hello World!\n",
            "Hello World!\n",
            "Hello World!\n",
            "Hello World!\n",
            "Hello World!\n",
            "Hello World!\n",
            "Hello World!\n",
            "Hello World!\n",
            "Hello World!\n",
            "Hello World!\n",
            "Hello World!\n",
            "Hello World!\n",
            "Hello World!\n",
            "Hello World!\n",
            "Hello World!\n",
            "Hello World!\n",
            "Hello World!\n",
            "Hello World!\n",
            "Hello World!\n",
            "Hello World!\n",
            "Hello World!\n",
            "Hello World!\n",
            "Hello World!\n",
            "Hello World!\n",
            "Hello World!\n",
            "Hello World!\n",
            "Hello World!\n",
            "Hello World!\n",
            "Hello World!\n",
            "Hello World!\n",
            "Hello World!\n",
            "Hello World!\n",
            "Hello World!\n",
            "Hello World!\n",
            "Hello World!\n",
            "Hello World!\n",
            "Hello World!\n",
            "Hello World!\n",
            "Hello World!\n",
            "Hello World!\n",
            "Hello World!\n",
            "Hello World!\n",
            "Hello World!\n",
            "Hello World!\n",
            "Hello World!\n",
            "Hello World!\n",
            "Hello World!\n",
            "Hello World!\n",
            "Hello World!\n",
            "Hello World!\n",
            "Hello World!\n",
            "Hello World!\n",
            "Hello World!\n",
            "Hello World!\n",
            "Hello World!\n",
            "Hello World!\n",
            "Hello World!\n",
            "Hello World!\n",
            "Hello World!\n",
            "Hello World!\n",
            "Hello World!\n",
            "Hello World!\n",
            "Hello World!\n",
            "Hello World!\n",
            "Hello World!\n",
            "Hello World!\n",
            "Hello World!\n",
            "Hello World!\n",
            "Hello World!\n",
            "Hello World!\n",
            "Hello World!\n",
            "Hello World!\n",
            "Hello World!\n",
            "Hello World!\n",
            "Hello World!\n",
            "Hello World!\n",
            "Hello World!\n",
            "Hello World!\n",
            "Hello World!\n",
            "Hello World!\n",
            "Hello World!\n",
            "Hello World!\n",
            "Hello World!\n",
            "Hello World!\n",
            "Hello World!\n",
            "Hello World!\n",
            "Hello World!\n",
            "Hello World!\n",
            "Hello World!\n",
            "Hello World!\n",
            "Hello World!\n",
            "Hello World!\n",
            "Hello World!\n",
            "Hello World!\n",
            "Hello World!\n",
            "Hello World!\n",
            "Hello World!\n",
            "Hello World!\n",
            "Hello World!\n",
            "Hello World!\n",
            "Hello World!\n",
            "Hello World!\n",
            "Hello World!\n",
            "Hello World!\n",
            "Hello World!\n",
            "Hello World!\n",
            "Hello World!\n",
            "Hello World!\n",
            "Hello World!\n",
            "Hello World!\n",
            "Hello World!\n",
            "Hello World!\n",
            "Hello World!\n",
            "Hello World!\n",
            "Hello World!\n",
            "Hello World!\n",
            "Hello World!\n",
            "Hello World!\n",
            "Hello World!\n",
            "Hello World!\n",
            "Hello World!\n",
            "Hello World!\n",
            "Hello World!\n",
            "Hello World!\n",
            "Hello World!\n",
            "Hello World!\n",
            "Hello World!\n",
            "Hello World!\n",
            "Hello World!\n",
            "Hello World!\n",
            "Hello World!\n",
            "Hello World!\n",
            "Hello World!\n",
            "Hello World!\n",
            "Hello World!\n",
            "Hello World!\n",
            "Hello World!\n",
            "Hello World!\n",
            "Hello World!\n",
            "Hello World!\n",
            "Hello World!\n",
            "Hello World!\n",
            "Hello World!\n",
            "Hello World!\n",
            "Hello World!\n",
            "Hello World!\n",
            "Hello World!\n",
            "Hello World!\n",
            "Hello World!\n",
            "Hello World!\n",
            "Hello World!\n",
            "Hello World!\n",
            "Hello World!\n",
            "Hello World!\n",
            "Hello World!\n",
            "Hello World!\n",
            "Hello World!\n",
            "Hello World!\n",
            "Hello World!\n",
            "Hello World!\n",
            "Hello World!\n",
            "Hello World!\n",
            "Hello World!\n",
            "Hello World!\n",
            "Hello World!\n",
            "Hello World!\n",
            "Hello World!\n",
            "Hello World!\n",
            "Hello World!\n",
            "Hello World!\n",
            "Hello World!\n",
            "Hello World!\n",
            "Hello World!\n",
            "Hello World!\n",
            "Hello World!\n",
            "Hello World!\n",
            "Hello World!\n",
            "Hello World!\n",
            "Hello World!\n",
            "Hello World!\n",
            "Hello World!\n",
            "Hello World!\n",
            "Hello World!\n",
            "Hello World!\n",
            "Hello World!\n",
            "Hello World!\n",
            "Hello World!\n",
            "Hello World!\n",
            "Hello World!\n",
            "Hello World!\n",
            "Hello World!\n",
            "Hello World!\n",
            "Hello World!\n",
            "Hello World!\n",
            "Hello World!\n",
            "Hello World!\n",
            "Hello World!\n",
            "Hello World!\n",
            "Hello World!\n",
            "Hello World!\n",
            "Hello World!\n",
            "Hello World!\n",
            "Hello World!\n",
            "Hello World!\n",
            "Hello World!\n",
            "Hello World!\n",
            "Hello World!\n",
            "Hello World!\n",
            "Hello World!\n",
            "Hello World!\n",
            "Hello World!\n",
            "Hello World!\n",
            "Hello World!\n",
            "Hello World!\n",
            "Hello World!\n",
            "Hello World!\n",
            "Hello World!\n",
            "Hello World!\n",
            "Hello World!\n",
            "Hello World!\n",
            "Hello World!\n",
            "Hello World!\n",
            "Hello World!\n",
            "Hello World!\n",
            "Hello World!\n",
            "Hello World!\n",
            "Hello World!\n",
            "Hello World!\n",
            "Hello World!\n",
            "Hello World!\n",
            "Hello World!\n",
            "Hello World!\n",
            "Hello World!\n",
            "Hello World!\n",
            "Hello World!\n",
            "Hello World!\n",
            "Hello World!\n",
            "Hello World!\n",
            "Hello World!\n",
            "Hello World!\n",
            "Hello World!\n",
            "Hello World!\n",
            "Hello World!\n",
            "Hello World!\n",
            "Hello World!\n",
            "Hello World!\n",
            "Hello World!\n",
            "Hello World!\n",
            "Hello World!\n",
            "Hello World!\n",
            "Hello World!\n",
            "Hello World!\n",
            "Hello World!\n",
            "Hello World!\n",
            "Hello World!\n",
            "Hello World!\n",
            "Hello World!\n",
            "Hello World!\n",
            "Hello World!\n",
            "Hello World!\n",
            "Hello World!\n",
            "Hello World!\n",
            "Hello World!\n",
            "Hello World!\n",
            "Hello World!\n",
            "Hello World!\n",
            "Hello World!\n",
            "Hello World!\n",
            "Hello World!\n",
            "Hello World!\n",
            "Hello World!\n",
            "Hello World!\n",
            "Hello World!\n",
            "Hello World!\n",
            "Hello World!\n",
            "Hello World!\n",
            "Hello World!\n",
            "Hello World!\n",
            "Hello World!\n",
            "Hello World!\n",
            "Hello World!\n",
            "Hello World!\n",
            "Hello World!\n",
            "Hello World!\n",
            "Hello World!\n",
            "Hello World!\n",
            "Hello World!\n",
            "Hello World!\n",
            "Hello World!\n",
            "Hello World!\n",
            "Hello World!\n",
            "Hello World!\n",
            "Hello World!\n",
            "Hello World!\n",
            "Hello World!\n",
            "Hello World!\n",
            "Hello World!\n",
            "Hello World!\n",
            "Hello World!\n",
            "Hello World!\n",
            "Hello World!\n",
            "Hello World!\n",
            "Hello World!\n",
            "Hello World!\n",
            "Hello World!\n",
            "Hello World!\n",
            "Hello World!\n",
            "Hello World!\n",
            "Hello World!\n",
            "Hello World!\n",
            "Hello World!\n",
            "Hello World!\n",
            "Hello World!\n",
            "Hello World!\n",
            "Hello World!\n",
            "Hello World!\n",
            "Hello World!\n",
            "Hello World!\n",
            "Hello World!\n",
            "Hello World!\n",
            "Hello World!\n",
            "Hello World!\n",
            "Hello World!\n",
            "Hello World!\n",
            "Hello World!\n",
            "Hello World!\n",
            "Hello World!\n",
            "Hello World!\n",
            "Hello World!\n",
            "Hello World!\n",
            "Hello World!\n",
            "Hello World!\n",
            "Hello World!\n",
            "Hello World!\n",
            "Hello World!\n",
            "Hello World!\n",
            "Hello World!\n",
            "Hello World!\n",
            "Hello World!\n",
            "Hello World!\n",
            "Hello World!\n",
            "Hello World!\n",
            "Hello World!\n",
            "Hello World!\n",
            "Hello World!\n",
            "Hello World!\n",
            "Hello World!\n",
            "Hello World!\n",
            "Hello World!\n",
            "Hello World!\n",
            "Hello World!\n",
            "Hello World!\n",
            "Hello World!\n",
            "Hello World!\n",
            "Hello World!\n",
            "Hello World!\n",
            "Hello World!\n",
            "Hello World!\n",
            "Hello World!\n",
            "Hello World!\n",
            "Hello World!\n",
            "Hello World!\n",
            "Hello World!\n",
            "Hello World!\n",
            "Hello World!\n",
            "Hello World!\n",
            "Hello World!\n",
            "Hello World!\n",
            "Hello World!\n",
            "Hello World!\n",
            "Hello World!\n",
            "Hello World!\n",
            "Hello World!\n",
            "Hello World!\n",
            "Hello World!\n",
            "Hello World!\n",
            "Hello World!\n",
            "Hello World!\n",
            "Hello World!\n",
            "Hello World!\n",
            "Hello World!\n",
            "Hello World!\n",
            "Hello World!\n",
            "Hello World!\n",
            "Hello World!\n",
            "Hello World!\n",
            "Hello World!\n",
            "Hello World!\n",
            "Hello World!\n",
            "Hello World!\n",
            "Hello World!\n",
            "Hello World!\n",
            "Hello World!\n",
            "Hello World!\n",
            "Hello World!\n",
            "Hello World!\n",
            "Hello World!\n",
            "Hello World!\n",
            "Hello World!\n",
            "Hello World!\n",
            "Hello World!\n",
            "Hello World!\n",
            "Hello World!\n",
            "Hello World!\n",
            "Hello World!\n",
            "Hello World!\n",
            "Hello World!\n",
            "Hello World!\n",
            "Hello World!\n",
            "Hello World!\n",
            "Hello World!\n",
            "Hello World!\n",
            "Hello World!\n",
            "Hello World!\n",
            "Hello World!\n",
            "Hello World!\n",
            "Hello World!\n",
            "Hello World!\n",
            "Hello World!\n",
            "Hello World!\n",
            "Hello World!\n",
            "Hello World!\n",
            "Hello World!\n",
            "Hello World!\n",
            "Hello World!\n",
            "Hello World!\n",
            "Hello World!\n",
            "Hello World!\n",
            "Hello World!\n",
            "Hello World!\n",
            "Hello World!\n",
            "Hello World!\n",
            "Hello World!\n",
            "Hello World!\n",
            "Hello World!\n",
            "Hello World!\n",
            "Hello World!\n",
            "Hello World!\n",
            "Hello World!\n",
            "Hello World!\n",
            "Hello World!\n",
            "Hello World!\n",
            "Hello World!\n",
            "Hello World!\n",
            "Hello World!\n",
            "Hello World!\n",
            "Hello World!\n",
            "Hello World!\n",
            "Hello World!\n",
            "Hello World!\n",
            "Hello World!\n",
            "Hello World!\n",
            "Hello World!\n",
            "Hello World!\n",
            "Hello World!\n",
            "Hello World!\n",
            "Hello World!\n",
            "Hello World!\n",
            "Hello World!\n",
            "Hello World!\n",
            "Hello World!\n",
            "Hello World!\n",
            "Hello World!\n",
            "Hello World!\n",
            "Hello World!\n",
            "Hello World!\n",
            "Hello World!\n",
            "Hello World!\n",
            "Hello World!\n",
            "Hello World!\n",
            "Hello World!\n",
            "Hello World!\n",
            "Hello World!\n",
            "Hello World!\n",
            "Hello World!\n",
            "Hello World!\n",
            "Hello World!\n",
            "Hello World!\n",
            "Hello World!\n",
            "Hello World!\n",
            "Hello World!\n",
            "Hello World!\n",
            "Hello World!\n",
            "Hello World!\n",
            "Hello World!\n",
            "Hello World!\n",
            "Hello World!\n",
            "Hello World!\n",
            "Hello World!\n",
            "Hello World!\n",
            "Hello World!\n",
            "Hello World!\n",
            "Hello World!\n",
            "Hello World!\n",
            "Hello World!\n",
            "Hello World!\n",
            "Hello World!\n",
            "Hello World!\n",
            "Hello World!\n",
            "Hello World!\n",
            "Hello World!\n",
            "Hello World!\n",
            "Hello World!\n",
            "Hello World!\n",
            "Hello World!\n",
            "Hello World!\n",
            "Hello World!\n",
            "Hello World!\n",
            "Hello World!\n",
            "Hello World!\n",
            "Hello World!\n",
            "Hello World!\n",
            "Hello World!\n",
            "Hello World!\n",
            "Hello World!\n",
            "Hello World!\n",
            "Hello World!\n",
            "Hello World!\n",
            "Hello World!\n",
            "Hello World!\n",
            "Hello World!\n",
            "Hello World!\n",
            "Hello World!\n",
            "Hello World!\n",
            "Hello World!\n",
            "Hello World!\n",
            "Hello World!\n",
            "Hello World!\n",
            "Hello World!\n",
            "Hello World!\n",
            "Hello World!\n",
            "Hello World!\n",
            "Hello World!\n",
            "Hello World!\n",
            "Hello World!\n",
            "Hello World!\n",
            "Hello World!\n",
            "Hello World!\n",
            "Hello World!\n",
            "Hello World!\n",
            "Hello World!\n",
            "Hello World!\n",
            "Hello World!\n",
            "Hello World!\n",
            "Hello World!\n",
            "Hello World!\n",
            "Hello World!\n",
            "Hello World!\n",
            "Hello World!\n",
            "Hello World!\n",
            "Hello World!\n",
            "Hello World!\n",
            "Hello World!\n",
            "Hello World!\n",
            "Hello World!\n",
            "Hello World!\n",
            "Hello World!\n",
            "Hello World!\n",
            "Hello World!\n",
            "Hello World!\n",
            "Hello World!\n",
            "Hello World!\n",
            "Hello World!\n",
            "Hello World!\n",
            "Hello World!\n",
            "Hello World!\n",
            "Hello World!\n",
            "Hello World!\n",
            "Hello World!\n",
            "Hello World!\n",
            "Hello World!\n",
            "Hello World!\n",
            "Hello World!\n",
            "Hello World!\n",
            "Hello World!\n",
            "Hello World!\n",
            "Hello World!\n",
            "Hello World!\n",
            "Hello World!\n",
            "Hello World!\n",
            "Hello World!\n",
            "Hello World!\n",
            "Hello World!\n",
            "Hello World!\n",
            "Hello World!\n",
            "Hello World!\n",
            "Hello World!\n",
            "Hello World!\n",
            "Hello World!\n",
            "Hello World!\n",
            "Hello World!\n",
            "Hello World!\n",
            "Hello World!\n",
            "Hello World!\n",
            "Hello World!\n",
            "Hello World!\n",
            "Hello World!\n",
            "Hello World!\n",
            "Hello World!\n",
            "Hello World!\n",
            "Hello World!\n",
            "Hello World!\n",
            "Hello World!\n",
            "Hello World!\n",
            "Hello World!\n",
            "Hello World!\n",
            "Hello World!\n",
            "Hello World!\n",
            "Hello World!\n",
            "Hello World!\n",
            "Hello World!\n",
            "Hello World!\n",
            "Hello World!\n",
            "Hello World!\n",
            "Hello World!\n",
            "Hello World!\n",
            "Hello World!\n",
            "Hello World!\n",
            "Hello World!\n",
            "Hello World!\n",
            "Hello World!\n",
            "Hello World!\n",
            "Hello World!\n",
            "Hello World!\n",
            "Hello World!\n",
            "Hello World!\n",
            "Hello World!\n",
            "Hello World!\n",
            "Hello World!\n",
            "Hello World!\n",
            "Hello World!\n",
            "Hello World!\n",
            "Hello World!\n",
            "Hello World!\n",
            "Hello World!\n",
            "Hello World!\n",
            "Hello World!\n",
            "Hello World!\n",
            "Hello World!\n",
            "Hello World!\n",
            "Hello World!\n",
            "Hello World!\n",
            "Hello World!\n",
            "Hello World!\n",
            "Hello World!\n",
            "Hello World!\n",
            "Hello World!\n",
            "Hello World!\n",
            "Hello World!\n",
            "Hello World!\n",
            "Hello World!\n",
            "Hello World!\n",
            "Hello World!\n",
            "Hello World!\n",
            "Hello World!\n",
            "Hello World!\n",
            "Hello World!\n",
            "Hello World!\n",
            "Hello World!\n",
            "Hello World!\n",
            "Hello World!\n",
            "Hello World!\n",
            "Hello World!\n",
            "Hello World!\n",
            "Hello World!\n",
            "Hello World!\n",
            "Hello World!\n",
            "Hello World!\n",
            "Hello World!\n",
            "Hello World!\n",
            "Hello World!\n",
            "Hello World!\n",
            "Hello World!\n",
            "Hello World!\n",
            "Hello World!\n",
            "Hello World!\n",
            "Hello World!\n",
            "Hello World!\n",
            "Hello World!\n",
            "Hello World!\n",
            "Hello World!\n",
            "Hello World!\n",
            "Hello World!\n",
            "Hello World!\n",
            "Hello World!\n",
            "Hello World!\n",
            "Hello World!\n",
            "Hello World!\n",
            "Hello World!\n",
            "Hello World!\n",
            "Hello World!\n",
            "Hello World!\n",
            "Hello World!\n",
            "Hello World!\n",
            "Hello World!\n",
            "Hello World!\n",
            "Hello World!\n",
            "Hello World!\n",
            "Hello World!\n",
            "Hello World!\n",
            "Hello World!\n",
            "Hello World!\n",
            "Hello World!\n",
            "Hello World!\n",
            "Hello World!\n",
            "Hello World!\n",
            "Hello World!\n",
            "Hello World!\n",
            "Hello World!\n",
            "Hello World!\n",
            "Hello World!\n",
            "Hello World!\n",
            "Hello World!\n",
            "Hello World!\n",
            "Hello World!\n",
            "Hello World!\n",
            "Hello World!\n",
            "Hello World!\n",
            "Hello World!\n",
            "Hello World!\n",
            "Hello World!\n",
            "Hello World!\n",
            "Hello World!\n",
            "Hello World!\n",
            "Hello World!\n",
            "Hello World!\n",
            "Hello World!\n",
            "Hello World!\n",
            "Hello World!\n",
            "Hello World!\n",
            "Hello World!\n",
            "Hello World!\n",
            "Hello World!\n",
            "Hello World!\n",
            "Hello World!\n",
            "Hello World!\n",
            "Hello World!\n",
            "Hello World!\n",
            "Hello World!\n",
            "Hello World!\n",
            "Hello World!\n",
            "Hello World!\n",
            "Hello World!\n",
            "Hello World!\n",
            "Hello World!\n",
            "Hello World!\n",
            "Hello World!\n",
            "Hello World!\n",
            "Hello World!\n",
            "Hello World!\n",
            "Hello World!\n",
            "Hello World!\n",
            "Hello World!\n",
            "Hello World!\n",
            "Hello World!\n",
            "Hello World!\n",
            "Hello World!\n",
            "Hello World!\n",
            "Hello World!\n",
            "Hello World!\n",
            "Hello World!\n",
            "Hello World!\n",
            "Hello World!\n",
            "Hello World!\n",
            "Hello World!\n",
            "Hello World!\n",
            "Hello World!\n",
            "Hello World!\n",
            "Hello World!\n",
            "Hello World!\n",
            "Hello World!\n",
            "Hello World!\n",
            "Hello World!\n",
            "Hello World!\n",
            "Hello World!\n",
            "Hello World!\n",
            "Hello World!\n",
            "Hello World!\n",
            "Hello World!\n",
            "Hello World!"
          ]
        },
        {
          "output_type": "error",
          "ename": "KeyboardInterrupt",
          "evalue": "",
          "traceback": [
            "\u001b[0;31m---------------------------------------------------------------------------\u001b[0m",
            "\u001b[0;31mKeyboardInterrupt\u001b[0m                         Traceback (most recent call last)",
            "\u001b[0;32m<ipython-input-103-d7fc25f7cb92>\u001b[0m in \u001b[0;36m<cell line: 2>\u001b[0;34m()\u001b[0m\n\u001b[1;32m      1\u001b[0m \u001b[0;31m# 無限迴圈\u001b[0m\u001b[0;34m\u001b[0m\u001b[0;34m\u001b[0m\u001b[0m\n\u001b[1;32m      2\u001b[0m \u001b[0;32mwhile\u001b[0m \u001b[0;32mTrue\u001b[0m\u001b[0;34m:\u001b[0m\u001b[0;34m\u001b[0m\u001b[0;34m\u001b[0m\u001b[0m\n\u001b[0;32m----> 3\u001b[0;31m   \u001b[0mprint\u001b[0m\u001b[0;34m(\u001b[0m\u001b[0;34m'Hello World!'\u001b[0m\u001b[0;34m)\u001b[0m\u001b[0;34m\u001b[0m\u001b[0;34m\u001b[0m\u001b[0m\n\u001b[0m",
            "\u001b[0;32m/usr/local/lib/python3.10/dist-packages/ipykernel/iostream.py\u001b[0m in \u001b[0;36mwrite\u001b[0;34m(self, string)\u001b[0m\n\u001b[1;32m    400\u001b[0m             \u001b[0mis_child\u001b[0m \u001b[0;34m=\u001b[0m \u001b[0;34m(\u001b[0m\u001b[0;32mnot\u001b[0m \u001b[0mself\u001b[0m\u001b[0;34m.\u001b[0m\u001b[0m_is_master_process\u001b[0m\u001b[0;34m(\u001b[0m\u001b[0;34m)\u001b[0m\u001b[0;34m)\u001b[0m\u001b[0;34m\u001b[0m\u001b[0;34m\u001b[0m\u001b[0m\n\u001b[1;32m    401\u001b[0m             \u001b[0;31m# only touch the buffer in the IO thread to avoid races\u001b[0m\u001b[0;34m\u001b[0m\u001b[0;34m\u001b[0m\u001b[0m\n\u001b[0;32m--> 402\u001b[0;31m             \u001b[0mself\u001b[0m\u001b[0;34m.\u001b[0m\u001b[0mpub_thread\u001b[0m\u001b[0;34m.\u001b[0m\u001b[0mschedule\u001b[0m\u001b[0;34m(\u001b[0m\u001b[0;32mlambda\u001b[0m \u001b[0;34m:\u001b[0m \u001b[0mself\u001b[0m\u001b[0;34m.\u001b[0m\u001b[0m_buffer\u001b[0m\u001b[0;34m.\u001b[0m\u001b[0mwrite\u001b[0m\u001b[0;34m(\u001b[0m\u001b[0mstring\u001b[0m\u001b[0;34m)\u001b[0m\u001b[0;34m)\u001b[0m\u001b[0;34m\u001b[0m\u001b[0;34m\u001b[0m\u001b[0m\n\u001b[0m\u001b[1;32m    403\u001b[0m             \u001b[0;32mif\u001b[0m \u001b[0mis_child\u001b[0m\u001b[0;34m:\u001b[0m\u001b[0;34m\u001b[0m\u001b[0;34m\u001b[0m\u001b[0m\n\u001b[1;32m    404\u001b[0m                 \u001b[0;31m# mp.Pool cannot be trusted to flush promptly (or ever),\u001b[0m\u001b[0;34m\u001b[0m\u001b[0;34m\u001b[0m\u001b[0m\n",
            "\u001b[0;32m/usr/local/lib/python3.10/dist-packages/ipykernel/iostream.py\u001b[0m in \u001b[0;36mschedule\u001b[0;34m(self, f)\u001b[0m\n\u001b[1;32m    201\u001b[0m             \u001b[0mself\u001b[0m\u001b[0;34m.\u001b[0m\u001b[0m_events\u001b[0m\u001b[0;34m.\u001b[0m\u001b[0mappend\u001b[0m\u001b[0;34m(\u001b[0m\u001b[0mf\u001b[0m\u001b[0;34m)\u001b[0m\u001b[0;34m\u001b[0m\u001b[0;34m\u001b[0m\u001b[0m\n\u001b[1;32m    202\u001b[0m             \u001b[0;31m# wake event thread (message content is ignored)\u001b[0m\u001b[0;34m\u001b[0m\u001b[0;34m\u001b[0m\u001b[0m\n\u001b[0;32m--> 203\u001b[0;31m             \u001b[0mself\u001b[0m\u001b[0;34m.\u001b[0m\u001b[0m_event_pipe\u001b[0m\u001b[0;34m.\u001b[0m\u001b[0msend\u001b[0m\u001b[0;34m(\u001b[0m\u001b[0;34mb''\u001b[0m\u001b[0;34m)\u001b[0m\u001b[0;34m\u001b[0m\u001b[0;34m\u001b[0m\u001b[0m\n\u001b[0m\u001b[1;32m    204\u001b[0m         \u001b[0;32melse\u001b[0m\u001b[0;34m:\u001b[0m\u001b[0;34m\u001b[0m\u001b[0;34m\u001b[0m\u001b[0m\n\u001b[1;32m    205\u001b[0m             \u001b[0mf\u001b[0m\u001b[0;34m(\u001b[0m\u001b[0;34m)\u001b[0m\u001b[0;34m\u001b[0m\u001b[0;34m\u001b[0m\u001b[0m\n",
            "\u001b[0;32m/usr/local/lib/python3.10/dist-packages/zmq/sugar/socket.py\u001b[0m in \u001b[0;36msend\u001b[0;34m(self, data, flags, copy, track, routing_id, group)\u001b[0m\n\u001b[1;32m    618\u001b[0m                 )\n\u001b[1;32m    619\u001b[0m             \u001b[0mdata\u001b[0m\u001b[0;34m.\u001b[0m\u001b[0mgroup\u001b[0m \u001b[0;34m=\u001b[0m \u001b[0mgroup\u001b[0m\u001b[0;34m\u001b[0m\u001b[0;34m\u001b[0m\u001b[0m\n\u001b[0;32m--> 620\u001b[0;31m         \u001b[0;32mreturn\u001b[0m \u001b[0msuper\u001b[0m\u001b[0;34m(\u001b[0m\u001b[0;34m)\u001b[0m\u001b[0;34m.\u001b[0m\u001b[0msend\u001b[0m\u001b[0;34m(\u001b[0m\u001b[0mdata\u001b[0m\u001b[0;34m,\u001b[0m \u001b[0mflags\u001b[0m\u001b[0;34m=\u001b[0m\u001b[0mflags\u001b[0m\u001b[0;34m,\u001b[0m \u001b[0mcopy\u001b[0m\u001b[0;34m=\u001b[0m\u001b[0mcopy\u001b[0m\u001b[0;34m,\u001b[0m \u001b[0mtrack\u001b[0m\u001b[0;34m=\u001b[0m\u001b[0mtrack\u001b[0m\u001b[0;34m)\u001b[0m\u001b[0;34m\u001b[0m\u001b[0;34m\u001b[0m\u001b[0m\n\u001b[0m\u001b[1;32m    621\u001b[0m \u001b[0;34m\u001b[0m\u001b[0m\n\u001b[1;32m    622\u001b[0m     def send_multipart(\n",
            "\u001b[0;32mzmq/backend/cython/socket.pyx\u001b[0m in \u001b[0;36mzmq.backend.cython.socket.Socket.send\u001b[0;34m()\u001b[0m\n",
            "\u001b[0;32mzmq/backend/cython/socket.pyx\u001b[0m in \u001b[0;36mzmq.backend.cython.socket.Socket.send\u001b[0;34m()\u001b[0m\n",
            "\u001b[0;32mzmq/backend/cython/socket.pyx\u001b[0m in \u001b[0;36mzmq.backend.cython.socket._send_copy\u001b[0;34m()\u001b[0m\n",
            "\u001b[0;32m/usr/local/lib/python3.10/dist-packages/zmq/backend/cython/checkrc.pxd\u001b[0m in \u001b[0;36mzmq.backend.cython.checkrc._check_rc\u001b[0;34m()\u001b[0m\n",
            "\u001b[0;31mKeyboardInterrupt\u001b[0m: "
          ]
        }
      ]
    },
    {
      "cell_type": "code",
      "source": [
        "c = 0\n",
        "while True:\n",
        "  print('Hello World!')\n",
        "  c += 1\n",
        "  if c >= 5:\n",
        "    break"
      ],
      "metadata": {
        "colab": {
          "base_uri": "https://localhost:8080/"
        },
        "id": "CenpijYKKKNP",
        "outputId": "311a788b-f443-4e00-ae22-9d38f603ad7a"
      },
      "execution_count": 104,
      "outputs": [
        {
          "output_type": "stream",
          "name": "stdout",
          "text": [
            "Hello World!\n",
            "Hello World!\n",
            "Hello World!\n",
            "Hello World!\n",
            "Hello World!\n"
          ]
        }
      ]
    },
    {
      "cell_type": "code",
      "source": [
        "i = 0\n",
        "while i < 5:\n",
        "  if i == 2:\n",
        "    i += 1\n",
        "    continue\n",
        "  print(i)\n",
        "  i = i + 1  # i += 1"
      ],
      "metadata": {
        "colab": {
          "base_uri": "https://localhost:8080/"
        },
        "id": "P6cSRVbUKSL9",
        "outputId": "dce8b4d3-10d7-4e81-e392-14057ac9a359"
      },
      "execution_count": 105,
      "outputs": [
        {
          "output_type": "stream",
          "name": "stdout",
          "text": [
            "0\n",
            "1\n",
            "3\n",
            "4\n"
          ]
        }
      ]
    },
    {
      "cell_type": "code",
      "source": [
        "for i in range(5):\n",
        "  if i == 2:\n",
        "    continue\n",
        "  print(i)"
      ],
      "metadata": {
        "colab": {
          "base_uri": "https://localhost:8080/"
        },
        "id": "fMo4NOoFKiJQ",
        "outputId": "fa203cde-4081-46cb-e40f-6096ee58a5ab"
      },
      "execution_count": 106,
      "outputs": [
        {
          "output_type": "stream",
          "name": "stdout",
          "text": [
            "0\n",
            "1\n",
            "3\n",
            "4\n"
          ]
        }
      ]
    },
    {
      "cell_type": "markdown",
      "source": [
        "## 函式"
      ],
      "metadata": {
        "id": "5ka8NVLHLKlz"
      }
    },
    {
      "cell_type": "code",
      "source": [
        "def square01(x):\n",
        "  print(x**2)\n",
        "\n",
        "def square02(x):\n",
        "  return x**2"
      ],
      "metadata": {
        "id": "QtyOBTjOLChk"
      },
      "execution_count": null,
      "outputs": []
    },
    {
      "cell_type": "code",
      "source": [
        "square01(2)"
      ],
      "metadata": {
        "colab": {
          "base_uri": "https://localhost:8080/"
        },
        "id": "eTi38tLNLZ8N",
        "outputId": "48dc0e61-5200-40f2-ae61-938e968fdb8d"
      },
      "execution_count": null,
      "outputs": [
        {
          "output_type": "stream",
          "name": "stdout",
          "text": [
            "4\n"
          ]
        }
      ]
    },
    {
      "cell_type": "code",
      "source": [
        "square02(2)"
      ],
      "metadata": {
        "colab": {
          "base_uri": "https://localhost:8080/"
        },
        "id": "eIpvv26WLdEW",
        "outputId": "5d517786-ad65-4614-8533-662d25848d24"
      },
      "execution_count": null,
      "outputs": [
        {
          "output_type": "execute_result",
          "data": {
            "text/plain": [
              "4"
            ]
          },
          "metadata": {},
          "execution_count": 64
        }
      ]
    },
    {
      "cell_type": "code",
      "source": [
        "x1 = square01(2)"
      ],
      "metadata": {
        "colab": {
          "base_uri": "https://localhost:8080/"
        },
        "id": "psAIsR1dLf3J",
        "outputId": "638c6aa9-fe78-44c6-bdb7-015f2a1ceb99"
      },
      "execution_count": null,
      "outputs": [
        {
          "output_type": "stream",
          "name": "stdout",
          "text": [
            "4\n"
          ]
        }
      ]
    },
    {
      "cell_type": "code",
      "source": [
        "x2 = square02(2)"
      ],
      "metadata": {
        "id": "9GR-_PhwLtV6"
      },
      "execution_count": null,
      "outputs": []
    },
    {
      "cell_type": "code",
      "source": [
        "x1"
      ],
      "metadata": {
        "id": "icUzHvucLwIq"
      },
      "execution_count": null,
      "outputs": []
    },
    {
      "cell_type": "code",
      "source": [
        "x2"
      ],
      "metadata": {
        "id": "i4GihaEvLyCp",
        "outputId": "5ceaa634-74d2-46ea-9357-7593b04508f7",
        "colab": {
          "base_uri": "https://localhost:8080/"
        }
      },
      "execution_count": null,
      "outputs": [
        {
          "output_type": "execute_result",
          "data": {
            "text/plain": [
              "4"
            ]
          },
          "metadata": {},
          "execution_count": 68
        }
      ]
    },
    {
      "cell_type": "markdown",
      "source": [
        "### 例外處理(Exception Handling)\n",
        "\n",
        "```python\n",
        "try:\n",
        "  程式區塊01\n",
        "except Exception as e:\n",
        "  程式區塊02\n",
        "```"
      ],
      "metadata": {
        "id": "5hX4XhMbL9-6"
      }
    },
    {
      "cell_type": "code",
      "source": [
        "def add(a, b):\n",
        "  print(f\"{a} + {b} = {a+b}\")\n",
        "\n",
        "def sub(a, b):\n",
        "  print(f\"{a} - {b} = {a-b}\")\n",
        "\n",
        "def mul(a, b):\n",
        "  print(f\"{a} x {b} = {a*b}\")\n",
        "\n",
        "def div(a, b):\n",
        "  print(f\"{a} / {b} = {a/b}\")"
      ],
      "metadata": {
        "id": "TvcILflyLzLq"
      },
      "execution_count": 108,
      "outputs": []
    },
    {
      "cell_type": "code",
      "source": [
        "fns = [add, sub, div, mul]"
      ],
      "metadata": {
        "id": "kmVo7BuENT3_"
      },
      "execution_count": 111,
      "outputs": []
    },
    {
      "cell_type": "code",
      "source": [
        "for i in fns:\n",
        "  i(4, 2)"
      ],
      "metadata": {
        "colab": {
          "base_uri": "https://localhost:8080/"
        },
        "id": "tOihcHFeMi_f",
        "outputId": "31a94f46-cd91-4a9b-b983-4ce988796fda"
      },
      "execution_count": 112,
      "outputs": [
        {
          "output_type": "stream",
          "name": "stdout",
          "text": [
            "4 + 2 = 6\n",
            "4 - 2 = 2\n",
            "4 / 2 = 2.0\n",
            "4 x 2 = 8\n"
          ]
        }
      ]
    },
    {
      "cell_type": "code",
      "source": [
        "for i in fns:\n",
        "  i(4, 0)"
      ],
      "metadata": {
        "colab": {
          "base_uri": "https://localhost:8080/",
          "height": 295
        },
        "id": "tSM-jgQiMkvG",
        "outputId": "582db40e-5534-43ac-82ec-c185763483cd"
      },
      "execution_count": 115,
      "outputs": [
        {
          "output_type": "stream",
          "name": "stdout",
          "text": [
            "4 + 0 = 4\n",
            "4 - 0 = 4\n"
          ]
        },
        {
          "output_type": "error",
          "ename": "ZeroDivisionError",
          "evalue": "division by zero",
          "traceback": [
            "\u001b[0;31m---------------------------------------------------------------------------\u001b[0m",
            "\u001b[0;31mZeroDivisionError\u001b[0m                         Traceback (most recent call last)",
            "\u001b[0;32m<ipython-input-115-6490d7400f6e>\u001b[0m in \u001b[0;36m<cell line: 1>\u001b[0;34m()\u001b[0m\n\u001b[1;32m      1\u001b[0m \u001b[0;32mfor\u001b[0m \u001b[0mi\u001b[0m \u001b[0;32min\u001b[0m \u001b[0mfns\u001b[0m\u001b[0;34m:\u001b[0m\u001b[0;34m\u001b[0m\u001b[0;34m\u001b[0m\u001b[0m\n\u001b[0;32m----> 2\u001b[0;31m   \u001b[0mi\u001b[0m\u001b[0;34m(\u001b[0m\u001b[0;36m4\u001b[0m\u001b[0;34m,\u001b[0m \u001b[0;36m0\u001b[0m\u001b[0;34m)\u001b[0m\u001b[0;34m\u001b[0m\u001b[0;34m\u001b[0m\u001b[0m\n\u001b[0m",
            "\u001b[0;32m<ipython-input-108-923436b41caf>\u001b[0m in \u001b[0;36mdiv\u001b[0;34m(a, b)\u001b[0m\n\u001b[1;32m      9\u001b[0m \u001b[0;34m\u001b[0m\u001b[0m\n\u001b[1;32m     10\u001b[0m \u001b[0;32mdef\u001b[0m \u001b[0mdiv\u001b[0m\u001b[0;34m(\u001b[0m\u001b[0ma\u001b[0m\u001b[0;34m,\u001b[0m \u001b[0mb\u001b[0m\u001b[0;34m)\u001b[0m\u001b[0;34m:\u001b[0m\u001b[0;34m\u001b[0m\u001b[0;34m\u001b[0m\u001b[0m\n\u001b[0;32m---> 11\u001b[0;31m   \u001b[0mprint\u001b[0m\u001b[0;34m(\u001b[0m\u001b[0;34mf\"{a} / {b} = {a/b}\"\u001b[0m\u001b[0;34m)\u001b[0m\u001b[0;34m\u001b[0m\u001b[0;34m\u001b[0m\u001b[0m\n\u001b[0m",
            "\u001b[0;31mZeroDivisionError\u001b[0m: division by zero"
          ]
        }
      ]
    },
    {
      "cell_type": "code",
      "source": [
        "for i in fns:\n",
        "  try:\n",
        "    i(4, 0)\n",
        "  except Exception as e:\n",
        "    print(e)"
      ],
      "metadata": {
        "colab": {
          "base_uri": "https://localhost:8080/"
        },
        "outputId": "e72c7ea7-2621-48b2-8641-986408bc824f",
        "id": "2S8DtgoUOJJN"
      },
      "execution_count": 116,
      "outputs": [
        {
          "output_type": "stream",
          "name": "stdout",
          "text": [
            "4 + 0 = 4\n",
            "4 - 0 = 4\n",
            "division by zero\n",
            "4 x 0 = 0\n"
          ]
        }
      ]
    },
    {
      "cell_type": "markdown",
      "source": [
        "## 綜合練習 03\n",
        "\n",
        "使用例外處理，修正萌典api的應用可能產生的錯誤。"
      ],
      "metadata": {
        "id": "zTOl21HiRoHx"
      }
    },
    {
      "cell_type": "code",
      "source": [
        "import requests\n",
        "\n",
        "def lookup(word):\n",
        "  url = \"https://www.moedict.tw/uni/\"\n",
        "  data = requests.get(url + word).json()\n",
        "  try:\n",
        "    return data['heteronyms'][0]['definitions'][0]['def']\n",
        "  except Exception as e:\n",
        "    return \"發生錯誤，資料查無\""
      ],
      "metadata": {
        "id": "r2RJt42zOh1M"
      },
      "execution_count": 126,
      "outputs": []
    },
    {
      "cell_type": "code",
      "source": [
        "lookup('教室')"
      ],
      "metadata": {
        "colab": {
          "base_uri": "https://localhost:8080/",
          "height": 36
        },
        "id": "9Qlxw93aRivl",
        "outputId": "7a1af02e-730f-4dd0-984e-bf8d0e43abb2"
      },
      "execution_count": 120,
      "outputs": [
        {
          "output_type": "execute_result",
          "data": {
            "text/plain": [
              "'學校裡進行教學活動的房間。'"
            ],
            "application/vnd.google.colaboratory.intrinsic+json": {
              "type": "string"
            }
          },
          "metadata": {},
          "execution_count": 120
        }
      ]
    },
    {
      "cell_type": "code",
      "source": [
        "lookup('apple')"
      ],
      "metadata": {
        "colab": {
          "base_uri": "https://localhost:8080/",
          "height": 36
        },
        "id": "HoZA8JKfRkxd",
        "outputId": "4fc838bf-0dfc-4172-b46e-a0fd0453a2fa"
      },
      "execution_count": 127,
      "outputs": [
        {
          "output_type": "execute_result",
          "data": {
            "text/plain": [
              "'發生錯誤，資料查無'"
            ],
            "application/vnd.google.colaboratory.intrinsic+json": {
              "type": "string"
            }
          },
          "metadata": {},
          "execution_count": 127
        }
      ]
    },
    {
      "cell_type": "markdown",
      "source": [
        "## 網路爬蟲簡介\n",
        "\n",
        "https://github.com/vcdemy/crawler\n",
        "\n",
        "https://vcdemy.github.io/web"
      ],
      "metadata": {
        "id": "w0xRKxy9S_Ke"
      }
    },
    {
      "cell_type": "code",
      "source": [
        "import requests"
      ],
      "metadata": {
        "id": "Xa-XBStsSAyO"
      },
      "execution_count": 129,
      "outputs": []
    },
    {
      "cell_type": "code",
      "source": [
        "url = \"https://vcdemy.github.io/web/html_only.html\""
      ],
      "metadata": {
        "id": "9qy_mayeT-fq"
      },
      "execution_count": 130,
      "outputs": []
    },
    {
      "cell_type": "code",
      "source": [
        "r = requests.get(url)"
      ],
      "metadata": {
        "id": "ZC1ggLgmUAeD"
      },
      "execution_count": 131,
      "outputs": []
    },
    {
      "cell_type": "code",
      "source": [
        "print(r.text)"
      ],
      "metadata": {
        "colab": {
          "base_uri": "https://localhost:8080/"
        },
        "id": "41SRi-p5UDy8",
        "outputId": "b3daa3f3-a1f5-43d3-a363-4f70977499dd"
      },
      "execution_count": 132,
      "outputs": [
        {
          "output_type": "stream",
          "name": "stdout",
          "text": [
            "<!DOCTYPE html>\n",
            "<html>\n",
            "<head>\n",
            "    <title>HTML範例</title>\n",
            "</head>\n",
            "<body>\n",
            "\n",
            "<h1>哈囉！HTML！</h1>\n",
            "\n",
            "<img src=\"ninja.jpg\" />\n",
            "\n",
            "</body>\n",
            "</html>\n"
          ]
        }
      ]
    },
    {
      "cell_type": "code",
      "source": [
        "r.status_code"
      ],
      "metadata": {
        "colab": {
          "base_uri": "https://localhost:8080/"
        },
        "id": "wYpz8CxmUF5U",
        "outputId": "860a9e6d-e0c9-4107-b85b-e39aedfed188"
      },
      "execution_count": 133,
      "outputs": [
        {
          "output_type": "execute_result",
          "data": {
            "text/plain": [
              "200"
            ]
          },
          "metadata": {},
          "execution_count": 133
        }
      ]
    },
    {
      "cell_type": "code",
      "source": [
        "r.headers"
      ],
      "metadata": {
        "colab": {
          "base_uri": "https://localhost:8080/"
        },
        "id": "8vfF77uUUdzd",
        "outputId": "701da682-e49e-42c4-b271-534e63129012"
      },
      "execution_count": 134,
      "outputs": [
        {
          "output_type": "execute_result",
          "data": {
            "text/plain": [
              "{'Connection': 'keep-alive', 'Content-Length': '143', 'Server': 'GitHub.com', 'Content-Type': 'text/html; charset=utf-8', 'permissions-policy': 'interest-cohort=()', 'Last-Modified': 'Tue, 07 Feb 2023 13:26:17 GMT', 'Access-Control-Allow-Origin': '*', 'Strict-Transport-Security': 'max-age=31556952', 'ETag': '\"63e25179-8f\"', 'expires': 'Fri, 30 Aug 2024 03:35:56 GMT', 'Cache-Control': 'max-age=600', 'x-proxy-cache': 'MISS', 'X-GitHub-Request-Id': '4FBA:3E2BC9:E12EE3:E44CF3:66D13BC3', 'Accept-Ranges': 'bytes', 'Date': 'Fri, 30 Aug 2024 03:26:05 GMT', 'Via': '1.1 varnish', 'Age': '9', 'X-Served-By': 'cache-bur-kbur8200175-BUR', 'X-Cache': 'HIT', 'X-Cache-Hits': '1', 'X-Timer': 'S1724988366.845613,VS0,VE1', 'Vary': 'Accept-Encoding', 'X-Fastly-Request-ID': '7ebc6fe7e997fd03e467945c9b08a3fcf079c733'}"
            ]
          },
          "metadata": {},
          "execution_count": 134
        }
      ]
    },
    {
      "cell_type": "code",
      "source": [
        "from bs4 import BeautifulSoup"
      ],
      "metadata": {
        "id": "1D2o2JLtUk6O"
      },
      "execution_count": 135,
      "outputs": []
    },
    {
      "cell_type": "code",
      "source": [
        "soup = BeautifulSoup(r.text)"
      ],
      "metadata": {
        "id": "2wMz73gTU6rP"
      },
      "execution_count": 136,
      "outputs": []
    },
    {
      "cell_type": "code",
      "source": [
        "soup.title"
      ],
      "metadata": {
        "colab": {
          "base_uri": "https://localhost:8080/"
        },
        "id": "SXZytGzMVNvR",
        "outputId": "5dae4372-8091-453d-d761-08ec1f24a553"
      },
      "execution_count": 137,
      "outputs": [
        {
          "output_type": "execute_result",
          "data": {
            "text/plain": [
              "<title>HTML範例</title>"
            ]
          },
          "metadata": {},
          "execution_count": 137
        }
      ]
    },
    {
      "cell_type": "code",
      "source": [
        "soup.title.text"
      ],
      "metadata": {
        "id": "k2XgMHccVXJD",
        "outputId": "77cc42b4-412a-406c-ca8b-fcddf71ccc9e",
        "colab": {
          "base_uri": "https://localhost:8080/",
          "height": 36
        }
      },
      "execution_count": 138,
      "outputs": [
        {
          "output_type": "execute_result",
          "data": {
            "text/plain": [
              "'HTML範例'"
            ],
            "application/vnd.google.colaboratory.intrinsic+json": {
              "type": "string"
            }
          },
          "metadata": {},
          "execution_count": 138
        }
      ]
    },
    {
      "cell_type": "code",
      "source": [
        "soup.h1"
      ],
      "metadata": {
        "id": "QZh8YRMfVS4A",
        "outputId": "b58df146-a68f-4f25-b368-51b0ccbe2485",
        "colab": {
          "base_uri": "https://localhost:8080/"
        }
      },
      "execution_count": 139,
      "outputs": [
        {
          "output_type": "execute_result",
          "data": {
            "text/plain": [
              "<h1>哈囉！HTML！</h1>"
            ]
          },
          "metadata": {},
          "execution_count": 139
        }
      ]
    },
    {
      "cell_type": "markdown",
      "source": [
        "### 抓取圖片"
      ],
      "metadata": {
        "id": "RRY57hDkWNTj"
      }
    },
    {
      "cell_type": "code",
      "source": [
        "url = \"https://vcdemy.github.io/web/ninja.jpg\""
      ],
      "metadata": {
        "id": "ySeU3h3ZVUCi"
      },
      "execution_count": 143,
      "outputs": []
    },
    {
      "cell_type": "code",
      "source": [
        "r = requests.get(url)"
      ],
      "metadata": {
        "id": "YsK3TEt8WS90"
      },
      "execution_count": 144,
      "outputs": []
    },
    {
      "cell_type": "code",
      "source": [
        "f = open('ninja.jpg', 'wb')\n",
        "f.write(r.content)\n",
        "f.close()"
      ],
      "metadata": {
        "id": "Ldcd0N-3WVc1"
      },
      "execution_count": 145,
      "outputs": []
    },
    {
      "cell_type": "code",
      "source": [
        "with open('ninja2.jpg', 'wb') as f:\n",
        "  f.write(r.content)"
      ],
      "metadata": {
        "id": "6iQXZ5URWgfF"
      },
      "execution_count": 146,
      "outputs": []
    },
    {
      "cell_type": "markdown",
      "source": [
        "### 抓取 pdf 檔"
      ],
      "metadata": {
        "id": "5VBqZAzpW8CX"
      }
    },
    {
      "cell_type": "code",
      "source": [
        "url = \"https://arxiv.org/pdf/2408.16756\""
      ],
      "metadata": {
        "id": "LOQ4ZaJwWyMV"
      },
      "execution_count": 147,
      "outputs": []
    },
    {
      "cell_type": "code",
      "source": [
        "r = requests.get(url)"
      ],
      "metadata": {
        "id": "lAEX1cnnXKzF"
      },
      "execution_count": 148,
      "outputs": []
    },
    {
      "cell_type": "code",
      "source": [
        "with open('llm01.pdf', 'wb') as f:\n",
        "  f.write(r.content)"
      ],
      "metadata": {
        "id": "e0rJ92bIXOBd"
      },
      "execution_count": 149,
      "outputs": []
    },
    {
      "cell_type": "markdown",
      "source": [
        "### 剖析網頁，取得所有pdf檔的網址"
      ],
      "metadata": {
        "id": "WMvnMsQmYyUQ"
      }
    },
    {
      "cell_type": "markdown",
      "source": [
        "https://www.w3schools.com/cssref/css_selectors.php"
      ],
      "metadata": {
        "id": "9IMyufOtZYnG"
      }
    },
    {
      "cell_type": "code",
      "source": [
        "url = \"https://arxiv.org/search/?query=LLM&searchtype=all&source=header\""
      ],
      "metadata": {
        "id": "snKjYKAQXSfG"
      },
      "execution_count": 150,
      "outputs": []
    },
    {
      "cell_type": "code",
      "source": [
        "r = requests.get(url)"
      ],
      "metadata": {
        "id": "RBHiGyIsZIyT"
      },
      "execution_count": 151,
      "outputs": []
    },
    {
      "cell_type": "code",
      "source": [
        "soup = BeautifulSoup(r.text)"
      ],
      "metadata": {
        "id": "cFrjQGJBZNX_"
      },
      "execution_count": 152,
      "outputs": []
    },
    {
      "cell_type": "code",
      "source": [
        "soup.title"
      ],
      "metadata": {
        "colab": {
          "base_uri": "https://localhost:8080/"
        },
        "id": "qno9sgcvZQTn",
        "outputId": "83a3f5e3-9720-4a77-f1b9-bc9eeead5f56"
      },
      "execution_count": 153,
      "outputs": [
        {
          "output_type": "execute_result",
          "data": {
            "text/plain": [
              "<title>Search | arXiv e-print repository</title>"
            ]
          },
          "metadata": {},
          "execution_count": 153
        }
      ]
    },
    {
      "cell_type": "code",
      "source": [
        "soup.select(\"li.arxiv-result div span a\")[0]"
      ],
      "metadata": {
        "colab": {
          "base_uri": "https://localhost:8080/"
        },
        "id": "oN7nH01Ba0fC",
        "outputId": "700ac6dc-42d5-41b6-e620-61c5dcd7dbbd"
      },
      "execution_count": 154,
      "outputs": [
        {
          "output_type": "execute_result",
          "data": {
            "text/plain": [
              "<a href=\"https://arxiv.org/pdf/2408.16756\">pdf</a>"
            ]
          },
          "metadata": {},
          "execution_count": 154
        }
      ]
    },
    {
      "cell_type": "code",
      "source": [
        "soup.select(\"li.arxiv-result div span a\")"
      ],
      "metadata": {
        "colab": {
          "base_uri": "https://localhost:8080/"
        },
        "id": "mUbzEDyoZSLA",
        "outputId": "5cf15df1-529c-4177-c491-db46e292bb18"
      },
      "execution_count": 155,
      "outputs": [
        {
          "output_type": "execute_result",
          "data": {
            "text/plain": [
              "[<a href=\"https://arxiv.org/pdf/2408.16756\">pdf</a>,\n",
              " <a href=\"https://arxiv.org/format/2408.16756\">other</a>,\n",
              " <a href=\"https://arxiv.org/pdf/2408.16740\">pdf</a>,\n",
              " <a href=\"https://arxiv.org/ps/2408.16740\">ps</a>,\n",
              " <a href=\"https://arxiv.org/format/2408.16740\">other</a>,\n",
              " <a href=\"https://arxiv.org/pdf/2408.16737\">pdf</a>,\n",
              " <a href=\"https://arxiv.org/format/2408.16737\">other</a>,\n",
              " <a href=\"https://arxiv.org/pdf/2408.16730\">pdf</a>,\n",
              " <a href=\"https://arxiv.org/format/2408.16730\">other</a>,\n",
              " <a href=\"https://arxiv.org/pdf/2408.16700\">pdf</a>,\n",
              " <a href=\"https://arxiv.org/format/2408.16700\">other</a>,\n",
              " <a href=\"https://arxiv.org/pdf/2408.16673\">pdf</a>,\n",
              " <a href=\"https://arxiv.org/format/2408.16673\">other</a>,\n",
              " <a href=\"https://arxiv.org/pdf/2408.16667\">pdf</a>,\n",
              " <a href=\"https://arxiv.org/format/2408.16667\">other</a>,\n",
              " <a href=\"https://arxiv.org/pdf/2408.16629\">pdf</a>,\n",
              " <a href=\"https://arxiv.org/format/2408.16629\">other</a>,\n",
              " <a href=\"https://arxiv.org/pdf/2408.16601\">pdf</a>,\n",
              " <a href=\"https://arxiv.org/format/2408.16601\">other</a>,\n",
              " <a href=\"https://arxiv.org/pdf/2408.16586\">pdf</a>,\n",
              " <a href=\"https://arxiv.org/format/2408.16586\">other</a>,\n",
              " <a href=\"https://arxiv.org/pdf/2408.16542\">pdf</a>,\n",
              " <a href=\"https://arxiv.org/format/2408.16542\">other</a>,\n",
              " <a href=\"https://arxiv.org/pdf/2408.16502\">pdf</a>,\n",
              " <a href=\"https://arxiv.org/format/2408.16502\">other</a>,\n",
              " <a href=\"https://arxiv.org/pdf/2408.16498\">pdf</a>,\n",
              " <a href=\"https://arxiv.org/format/2408.16498\">other</a>,\n",
              " <a href=\"https://arxiv.org/pdf/2408.16482\">pdf</a>,\n",
              " <a href=\"https://arxiv.org/format/2408.16482\">other</a>,\n",
              " <a href=\"https://arxiv.org/pdf/2408.16465\">pdf</a>,\n",
              " <a href=\"https://arxiv.org/format/2408.16465\">other</a>,\n",
              " <a href=\"https://arxiv.org/pdf/2408.16440\">pdf</a>,\n",
              " <a href=\"https://arxiv.org/ps/2408.16440\">ps</a>,\n",
              " <a href=\"https://arxiv.org/format/2408.16440\">other</a>,\n",
              " <a href=\"https://arxiv.org/pdf/2408.16423\">pdf</a>,\n",
              " <a href=\"https://arxiv.org/format/2408.16423\">other</a>,\n",
              " <a href=\"https://arxiv.org/pdf/2408.16400\">pdf</a>,\n",
              " <a href=\"https://arxiv.org/format/2408.16400\">other</a>,\n",
              " <a href=\"https://arxiv.org/pdf/2408.16345\">pdf</a>,\n",
              " <a href=\"https://arxiv.org/format/2408.16345\">other</a>,\n",
              " <a href=\"https://arxiv.org/pdf/2408.16326\">pdf</a>,\n",
              " <a href=\"https://arxiv.org/format/2408.16326\">other</a>,\n",
              " <a href=\"https://arxiv.org/pdf/2408.16312\">pdf</a>,\n",
              " <a href=\"https://arxiv.org/format/2408.16312\">other</a>,\n",
              " <a href=\"https://arxiv.org/pdf/2408.16304\">pdf</a>,\n",
              " <a href=\"https://arxiv.org/format/2408.16304\">other</a>,\n",
              " <a href=\"https://arxiv.org/pdf/2408.16296\">pdf</a>,\n",
              " <a href=\"https://arxiv.org/format/2408.16296\">other</a>,\n",
              " <a href=\"https://arxiv.org/pdf/2408.16276\">pdf</a>,\n",
              " <a href=\"https://arxiv.org/ps/2408.16276\">ps</a>,\n",
              " <a href=\"https://arxiv.org/format/2408.16276\">other</a>,\n",
              " <a href=\"https://arxiv.org/pdf/2408.16264\">pdf</a>,\n",
              " <a href=\"https://arxiv.org/format/2408.16264\">other</a>,\n",
              " <a href=\"https://arxiv.org/pdf/2408.16221\">pdf</a>,\n",
              " <a href=\"https://arxiv.org/format/2408.16221\">other</a>,\n",
              " <a href=\"https://arxiv.org/pdf/2408.16219\">pdf</a>,\n",
              " <a href=\"https://arxiv.org/format/2408.16219\">other</a>,\n",
              " <a href=\"https://arxiv.org/pdf/2408.16213\">pdf</a>,\n",
              " <a href=\"https://arxiv.org/format/2408.16213\">other</a>,\n",
              " <a href=\"https://arxiv.org/pdf/2408.16208\">pdf</a>,\n",
              " <a href=\"https://arxiv.org/format/2408.16208\">other</a>,\n",
              " <a href=\"https://arxiv.org/pdf/2408.16180\">pdf</a>,\n",
              " <a href=\"https://arxiv.org/format/2408.16180\">other</a>,\n",
              " <a href=\"https://arxiv.org/pdf/2408.16173\">pdf</a>,\n",
              " <a href=\"https://arxiv.org/format/2408.16173\">other</a>,\n",
              " <a href=\"https://arxiv.org/pdf/2408.16163\">pdf</a>,\n",
              " <a href=\"https://arxiv.org/ps/2408.16163\">ps</a>,\n",
              " <a href=\"https://arxiv.org/format/2408.16163\">other</a>,\n",
              " <a href=\"https://arxiv.org/pdf/2408.16151\">pdf</a>,\n",
              " <a href=\"https://arxiv.org/ps/2408.16151\">ps</a>,\n",
              " <a href=\"https://arxiv.org/format/2408.16151\">other</a>,\n",
              " <a class=\"\" href=\"https://doi.org/10.1145/3674805.3690746\">10.1145/3674805.3690746 <i aria-hidden=\"true\" class=\"fa fa-external-link\"></i></a>,\n",
              " <a href=\"https://arxiv.org/pdf/2408.16119\">pdf</a>,\n",
              " <a href=\"https://arxiv.org/format/2408.16119\">other</a>,\n",
              " <a href=\"https://arxiv.org/pdf/2408.16100\">pdf</a>,\n",
              " <a href=\"https://arxiv.org/format/2408.16100\">other</a>,\n",
              " <a href=\"https://arxiv.org/pdf/2408.16098\">pdf</a>,\n",
              " <a href=\"https://arxiv.org/format/2408.16098\">other</a>,\n",
              " <a href=\"https://arxiv.org/pdf/2408.16090\">pdf</a>,\n",
              " <a href=\"https://arxiv.org/format/2408.16090\">other</a>,\n",
              " <a href=\"https://arxiv.org/pdf/2408.16081\">pdf</a>,\n",
              " <a href=\"https://arxiv.org/ps/2408.16081\">ps</a>,\n",
              " <a href=\"https://arxiv.org/format/2408.16081\">other</a>,\n",
              " <a href=\"https://arxiv.org/pdf/2408.16073\">pdf</a>,\n",
              " <a href=\"https://arxiv.org/pdf/2408.16032\">pdf</a>,\n",
              " <a href=\"https://arxiv.org/format/2408.16032\">other</a>,\n",
              " <a href=\"https://arxiv.org/pdf/2408.16028\">pdf</a>,\n",
              " <a href=\"https://arxiv.org/format/2408.16028\">other</a>,\n",
              " <a href=\"https://arxiv.org/pdf/2408.16021\">pdf</a>,\n",
              " <a href=\"https://arxiv.org/format/2408.16021\">other</a>,\n",
              " <a href=\"https://arxiv.org/pdf/2408.16018\">pdf</a>,\n",
              " <a href=\"https://arxiv.org/format/2408.16018\">other</a>,\n",
              " <a href=\"https://arxiv.org/pdf/2408.16012\">pdf</a>,\n",
              " <a href=\"https://arxiv.org/pdf/2408.15998\">pdf</a>,\n",
              " <a href=\"https://arxiv.org/format/2408.15998\">other</a>,\n",
              " <a href=\"https://arxiv.org/pdf/2408.15978\">pdf</a>,\n",
              " <a href=\"https://arxiv.org/format/2408.15978\">other</a>,\n",
              " <a href=\"https://arxiv.org/pdf/2408.15971\">pdf</a>,\n",
              " <a href=\"https://arxiv.org/format/2408.15971\">other</a>,\n",
              " <a href=\"https://arxiv.org/pdf/2408.15966\">pdf</a>,\n",
              " <a href=\"https://arxiv.org/format/2408.15966\">other</a>,\n",
              " <a href=\"https://arxiv.org/pdf/2408.15950\">pdf</a>,\n",
              " <a href=\"https://arxiv.org/format/2408.15950\">other</a>,\n",
              " <a href=\"https://arxiv.org/pdf/2408.15915\">pdf</a>,\n",
              " <a href=\"https://arxiv.org/format/2408.15915\">other</a>]"
            ]
          },
          "metadata": {},
          "execution_count": 155
        }
      ]
    },
    {
      "cell_type": "code",
      "source": [
        "for i in soup.select(\"li.arxiv-result div span a\"):\n",
        "  link = i.get('href')\n",
        "  if 'pdf' in link:\n",
        "    print(link)"
      ],
      "metadata": {
        "colab": {
          "base_uri": "https://localhost:8080/"
        },
        "id": "82tjkhxAaKgP",
        "outputId": "fa2d0995-d318-4c0c-e8a5-9ab25a56c455"
      },
      "execution_count": 156,
      "outputs": [
        {
          "output_type": "stream",
          "name": "stdout",
          "text": [
            "https://arxiv.org/pdf/2408.16756\n",
            "https://arxiv.org/pdf/2408.16740\n",
            "https://arxiv.org/pdf/2408.16737\n",
            "https://arxiv.org/pdf/2408.16730\n",
            "https://arxiv.org/pdf/2408.16700\n",
            "https://arxiv.org/pdf/2408.16673\n",
            "https://arxiv.org/pdf/2408.16667\n",
            "https://arxiv.org/pdf/2408.16629\n",
            "https://arxiv.org/pdf/2408.16601\n",
            "https://arxiv.org/pdf/2408.16586\n",
            "https://arxiv.org/pdf/2408.16542\n",
            "https://arxiv.org/pdf/2408.16502\n",
            "https://arxiv.org/pdf/2408.16498\n",
            "https://arxiv.org/pdf/2408.16482\n",
            "https://arxiv.org/pdf/2408.16465\n",
            "https://arxiv.org/pdf/2408.16440\n",
            "https://arxiv.org/pdf/2408.16423\n",
            "https://arxiv.org/pdf/2408.16400\n",
            "https://arxiv.org/pdf/2408.16345\n",
            "https://arxiv.org/pdf/2408.16326\n",
            "https://arxiv.org/pdf/2408.16312\n",
            "https://arxiv.org/pdf/2408.16304\n",
            "https://arxiv.org/pdf/2408.16296\n",
            "https://arxiv.org/pdf/2408.16276\n",
            "https://arxiv.org/pdf/2408.16264\n",
            "https://arxiv.org/pdf/2408.16221\n",
            "https://arxiv.org/pdf/2408.16219\n",
            "https://arxiv.org/pdf/2408.16213\n",
            "https://arxiv.org/pdf/2408.16208\n",
            "https://arxiv.org/pdf/2408.16180\n",
            "https://arxiv.org/pdf/2408.16173\n",
            "https://arxiv.org/pdf/2408.16163\n",
            "https://arxiv.org/pdf/2408.16151\n",
            "https://arxiv.org/pdf/2408.16119\n",
            "https://arxiv.org/pdf/2408.16100\n",
            "https://arxiv.org/pdf/2408.16098\n",
            "https://arxiv.org/pdf/2408.16090\n",
            "https://arxiv.org/pdf/2408.16081\n",
            "https://arxiv.org/pdf/2408.16073\n",
            "https://arxiv.org/pdf/2408.16032\n",
            "https://arxiv.org/pdf/2408.16028\n",
            "https://arxiv.org/pdf/2408.16021\n",
            "https://arxiv.org/pdf/2408.16018\n",
            "https://arxiv.org/pdf/2408.16012\n",
            "https://arxiv.org/pdf/2408.15998\n",
            "https://arxiv.org/pdf/2408.15978\n",
            "https://arxiv.org/pdf/2408.15971\n",
            "https://arxiv.org/pdf/2408.15966\n",
            "https://arxiv.org/pdf/2408.15950\n",
            "https://arxiv.org/pdf/2408.15915\n"
          ]
        }
      ]
    },
    {
      "cell_type": "code",
      "source": [
        "for i in soup.select(\"li.arxiv-result div span a\"):\n",
        "  link = i.get('href')\n",
        "  if 'pdf' in link:\n",
        "    print(link)\n",
        "    r = requests.get(link)\n",
        "    with open(f\"{link.split('/')[-1]}.pdf\", 'wb') as f:\n",
        "      f.write(r.content)"
      ],
      "metadata": {
        "colab": {
          "base_uri": "https://localhost:8080/"
        },
        "id": "z1GiJ6k0bgJx",
        "outputId": "9345df55-8916-4a60-d237-f0bd11aadd3c"
      },
      "execution_count": 157,
      "outputs": [
        {
          "output_type": "stream",
          "name": "stdout",
          "text": [
            "https://arxiv.org/pdf/2408.16756\n",
            "https://arxiv.org/pdf/2408.16740\n",
            "https://arxiv.org/pdf/2408.16737\n",
            "https://arxiv.org/pdf/2408.16730\n",
            "https://arxiv.org/pdf/2408.16700\n",
            "https://arxiv.org/pdf/2408.16673\n",
            "https://arxiv.org/pdf/2408.16667\n",
            "https://arxiv.org/pdf/2408.16629\n",
            "https://arxiv.org/pdf/2408.16601\n",
            "https://arxiv.org/pdf/2408.16586\n",
            "https://arxiv.org/pdf/2408.16542\n",
            "https://arxiv.org/pdf/2408.16502\n",
            "https://arxiv.org/pdf/2408.16498\n",
            "https://arxiv.org/pdf/2408.16482\n",
            "https://arxiv.org/pdf/2408.16465\n",
            "https://arxiv.org/pdf/2408.16440\n",
            "https://arxiv.org/pdf/2408.16423\n",
            "https://arxiv.org/pdf/2408.16400\n",
            "https://arxiv.org/pdf/2408.16345\n",
            "https://arxiv.org/pdf/2408.16326\n",
            "https://arxiv.org/pdf/2408.16312\n",
            "https://arxiv.org/pdf/2408.16304\n",
            "https://arxiv.org/pdf/2408.16296\n",
            "https://arxiv.org/pdf/2408.16276\n",
            "https://arxiv.org/pdf/2408.16264\n",
            "https://arxiv.org/pdf/2408.16221\n",
            "https://arxiv.org/pdf/2408.16219\n",
            "https://arxiv.org/pdf/2408.16213\n",
            "https://arxiv.org/pdf/2408.16208\n",
            "https://arxiv.org/pdf/2408.16180\n",
            "https://arxiv.org/pdf/2408.16173\n",
            "https://arxiv.org/pdf/2408.16163\n",
            "https://arxiv.org/pdf/2408.16151\n",
            "https://arxiv.org/pdf/2408.16119\n",
            "https://arxiv.org/pdf/2408.16100\n",
            "https://arxiv.org/pdf/2408.16098\n",
            "https://arxiv.org/pdf/2408.16090\n",
            "https://arxiv.org/pdf/2408.16081\n",
            "https://arxiv.org/pdf/2408.16073\n",
            "https://arxiv.org/pdf/2408.16032\n",
            "https://arxiv.org/pdf/2408.16028\n",
            "https://arxiv.org/pdf/2408.16021\n",
            "https://arxiv.org/pdf/2408.16018\n",
            "https://arxiv.org/pdf/2408.16012\n",
            "https://arxiv.org/pdf/2408.15998\n",
            "https://arxiv.org/pdf/2408.15978\n",
            "https://arxiv.org/pdf/2408.15971\n",
            "https://arxiv.org/pdf/2408.15966\n",
            "https://arxiv.org/pdf/2408.15950\n",
            "https://arxiv.org/pdf/2408.15915\n"
          ]
        }
      ]
    },
    {
      "cell_type": "code",
      "source": [
        "link = \"https://arxiv.org/pdf/2408.15915\""
      ],
      "metadata": {
        "id": "P8kboE5QcnMm"
      },
      "execution_count": 158,
      "outputs": []
    },
    {
      "cell_type": "code",
      "source": [
        "link.split('/')[-1]"
      ],
      "metadata": {
        "colab": {
          "base_uri": "https://localhost:8080/",
          "height": 36
        },
        "id": "xV1dSeqVdSfz",
        "outputId": "48340d8d-b007-4b5e-b316-20cc5c620609"
      },
      "execution_count": 159,
      "outputs": [
        {
          "output_type": "execute_result",
          "data": {
            "text/plain": [
              "'2408.15915'"
            ],
            "application/vnd.google.colaboratory.intrinsic+json": {
              "type": "string"
            }
          },
          "metadata": {},
          "execution_count": 159
        }
      ]
    }
  ]
}